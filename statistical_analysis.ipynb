{
  "nbformat": 4,
  "nbformat_minor": 0,
  "metadata": {
    "colab": {
      "name": "statistical_analysis.ipynb",
      "provenance": [],
      "collapsed_sections": [
        "Z7GxF67xCmHv",
        "pkmg2PSwDJa3",
        "wXhtY6OsDSGz",
        "ntsElpq0FVL_"
      ],
      "toc_visible": true
    },
    "kernelspec": {
      "name": "python3",
      "display_name": "Python 3"
    },
    "language_info": {
      "name": "python"
    }
  },
  "cells": [
    {
      "cell_type": "code",
      "metadata": {
        "id": "uJT2U1UL0LQ0"
      },
      "source": [
        "import json\n",
        "import pandas as pd\n",
        "import seaborn as sns\n",
        "from scipy import stats\n",
        "# only for showing the legend of the plots\n",
        "import matplotlib.pylab as plt"
      ],
      "execution_count": null,
      "outputs": []
    },
    {
      "cell_type": "code",
      "metadata": {
        "colab": {
          "base_uri": "https://localhost:8080/"
        },
        "id": "t04grCj-9DWf",
        "outputId": "7a86054e-46f5-4d1f-a89e-3ccf182f19eb"
      },
      "source": [
        "# testing\n",
        "with open('bert-base-uncased.all-folds-cv.results.json') as json_file:\n",
        "  data = json.load(json_file)\n",
        "print(data[0][0]['acc'])\n",
        "print(data[1][0]['acc'])\n",
        "print(data[2][0]['acc'])\n",
        "print(data[3][0]['acc'])\n",
        "print(data[4][0]['acc'])\n",
        "print(data[5][0]['acc'])\n",
        "print(data[6][0]['acc'])\n",
        "print(data[7][0]['acc'])\n",
        "print(data[8][0]['acc'])\n",
        "print(data[9][0]['acc'])"
      ],
      "execution_count": null,
      "outputs": [
        {
          "output_type": "stream",
          "name": "stdout",
          "text": [
            "0.9\n",
            "0.8818181818181818\n",
            "0.8803030303030303\n",
            "0.85\n",
            "0.9028831562974203\n",
            "0.8998482549317147\n",
            "0.858877086494689\n",
            "0.874051593323217\n",
            "0.8846737481031867\n",
            "0.8482549317147192\n"
          ]
        }
      ]
    },
    {
      "cell_type": "markdown",
      "metadata": {
        "id": "MRTkhSJS9JH_"
      },
      "source": [
        "# Creating Dataframes for each classifier"
      ]
    },
    {
      "cell_type": "markdown",
      "metadata": {
        "id": "S-3a2ClS_1yA"
      },
      "source": [
        "## Dataframe for SVM"
      ]
    },
    {
      "cell_type": "code",
      "metadata": {
        "colab": {
          "base_uri": "https://localhost:8080/",
          "height": 363
        },
        "id": "VUAVWlQL_09A",
        "outputId": "d423670c-4728-44c7-9048-3dfb73143012"
      },
      "source": [
        "with open('svm.all-folds-cv.acc.results.json') as json_file:\n",
        "  data = json.load(json_file)\n",
        "\n",
        "svm_scores_accuracy = data\n",
        "\n",
        "with open('svm.all-folds-cv.f1_macro.results.json') as json_file:\n",
        "  data = json.load(json_file)\n",
        "svm_scores_f1_macro = data\n",
        "\n",
        "# create Dataframe for t-test\n",
        "folds = [0,1,2,3,4,5,6,7,8,9]\n",
        "svm_data = pd.DataFrame(folds, columns=['Fold'])\n",
        "#NB_f1_macro = pd.DataFrame(scores_f1_macro, columns=['F1_macro'])\n",
        "svm_data['Model']='SVM'\n",
        "svm_data['Accuracy']= svm_scores_accuracy\n",
        "svm_data['F1_macro']= svm_scores_f1_macro\n",
        "svm_data"
      ],
      "execution_count": null,
      "outputs": [
        {
          "output_type": "execute_result",
          "data": {
            "text/html": [
              "<div>\n",
              "<style scoped>\n",
              "    .dataframe tbody tr th:only-of-type {\n",
              "        vertical-align: middle;\n",
              "    }\n",
              "\n",
              "    .dataframe tbody tr th {\n",
              "        vertical-align: top;\n",
              "    }\n",
              "\n",
              "    .dataframe thead th {\n",
              "        text-align: right;\n",
              "    }\n",
              "</style>\n",
              "<table border=\"1\" class=\"dataframe\">\n",
              "  <thead>\n",
              "    <tr style=\"text-align: right;\">\n",
              "      <th></th>\n",
              "      <th>Fold</th>\n",
              "      <th>Model</th>\n",
              "      <th>Accuracy</th>\n",
              "      <th>F1_macro</th>\n",
              "    </tr>\n",
              "  </thead>\n",
              "  <tbody>\n",
              "    <tr>\n",
              "      <th>0</th>\n",
              "      <td>0</td>\n",
              "      <td>SVM</td>\n",
              "      <td>0.798414</td>\n",
              "      <td>0.764046</td>\n",
              "    </tr>\n",
              "    <tr>\n",
              "      <th>1</th>\n",
              "      <td>1</td>\n",
              "      <td>SVM</td>\n",
              "      <td>0.780294</td>\n",
              "      <td>0.745867</td>\n",
              "    </tr>\n",
              "    <tr>\n",
              "      <th>2</th>\n",
              "      <td>2</td>\n",
              "      <td>SVM</td>\n",
              "      <td>0.796149</td>\n",
              "      <td>0.762821</td>\n",
              "    </tr>\n",
              "    <tr>\n",
              "      <th>3</th>\n",
              "      <td>3</td>\n",
              "      <td>SVM</td>\n",
              "      <td>0.796149</td>\n",
              "      <td>0.759424</td>\n",
              "    </tr>\n",
              "    <tr>\n",
              "      <th>4</th>\n",
              "      <td>4</td>\n",
              "      <td>SVM</td>\n",
              "      <td>0.787089</td>\n",
              "      <td>0.751291</td>\n",
              "    </tr>\n",
              "    <tr>\n",
              "      <th>5</th>\n",
              "      <td>5</td>\n",
              "      <td>SVM</td>\n",
              "      <td>0.785957</td>\n",
              "      <td>0.746059</td>\n",
              "    </tr>\n",
              "    <tr>\n",
              "      <th>6</th>\n",
              "      <td>6</td>\n",
              "      <td>SVM</td>\n",
              "      <td>0.780294</td>\n",
              "      <td>0.739618</td>\n",
              "    </tr>\n",
              "    <tr>\n",
              "      <th>7</th>\n",
              "      <td>7</td>\n",
              "      <td>SVM</td>\n",
              "      <td>0.782559</td>\n",
              "      <td>0.734086</td>\n",
              "    </tr>\n",
              "    <tr>\n",
              "      <th>8</th>\n",
              "      <td>8</td>\n",
              "      <td>SVM</td>\n",
              "      <td>0.755379</td>\n",
              "      <td>0.713673</td>\n",
              "    </tr>\n",
              "    <tr>\n",
              "      <th>9</th>\n",
              "      <td>9</td>\n",
              "      <td>SVM</td>\n",
              "      <td>0.753968</td>\n",
              "      <td>0.709525</td>\n",
              "    </tr>\n",
              "  </tbody>\n",
              "</table>\n",
              "</div>"
            ],
            "text/plain": [
              "   Fold Model  Accuracy  F1_macro\n",
              "0     0   SVM  0.798414  0.764046\n",
              "1     1   SVM  0.780294  0.745867\n",
              "2     2   SVM  0.796149  0.762821\n",
              "3     3   SVM  0.796149  0.759424\n",
              "4     4   SVM  0.787089  0.751291\n",
              "5     5   SVM  0.785957  0.746059\n",
              "6     6   SVM  0.780294  0.739618\n",
              "7     7   SVM  0.782559  0.734086\n",
              "8     8   SVM  0.755379  0.713673\n",
              "9     9   SVM  0.753968  0.709525"
            ]
          },
          "metadata": {},
          "execution_count": 3
        }
      ]
    },
    {
      "cell_type": "markdown",
      "metadata": {
        "id": "GLn3spA-BTzL"
      },
      "source": [
        "## Dataframe for Naive Bayes"
      ]
    },
    {
      "cell_type": "code",
      "metadata": {
        "colab": {
          "base_uri": "https://localhost:8080/",
          "height": 363
        },
        "id": "5hS6qGd6BTzM",
        "outputId": "f322ae1e-3494-4de8-a8a3-7f3ebeade101"
      },
      "source": [
        "with open('nb.all-folds-cv.acc.results.json') as json_file:\n",
        "  data = json.load(json_file)\n",
        "\n",
        "nb_scores_accuracy = data\n",
        "\n",
        "with open('nb.all-folds-cv.f1_macro.results.json') as json_file:\n",
        "  data = json.load(json_file)\n",
        "nb_scores_f1_macro = data\n",
        "\n",
        "# create Dataframe for t-test\n",
        "folds = [0,1,2,3,4,5,6,7,8,9]\n",
        "nb_data = pd.DataFrame(folds, columns=['Fold'])\n",
        "#NB_f1_macro = pd.DataFrame(scores_f1_macro, columns=['F1_macro'])\n",
        "nb_data['Model']='NB'\n",
        "nb_data['Accuracy']= nb_scores_accuracy\n",
        "nb_data['F1_macro']= nb_scores_f1_macro\n",
        "nb_data"
      ],
      "execution_count": null,
      "outputs": [
        {
          "output_type": "execute_result",
          "data": {
            "text/html": [
              "<div>\n",
              "<style scoped>\n",
              "    .dataframe tbody tr th:only-of-type {\n",
              "        vertical-align: middle;\n",
              "    }\n",
              "\n",
              "    .dataframe tbody tr th {\n",
              "        vertical-align: top;\n",
              "    }\n",
              "\n",
              "    .dataframe thead th {\n",
              "        text-align: right;\n",
              "    }\n",
              "</style>\n",
              "<table border=\"1\" class=\"dataframe\">\n",
              "  <thead>\n",
              "    <tr style=\"text-align: right;\">\n",
              "      <th></th>\n",
              "      <th>Fold</th>\n",
              "      <th>Model</th>\n",
              "      <th>Accuracy</th>\n",
              "      <th>F1_macro</th>\n",
              "    </tr>\n",
              "  </thead>\n",
              "  <tbody>\n",
              "    <tr>\n",
              "      <th>0</th>\n",
              "      <td>0</td>\n",
              "      <td>NB</td>\n",
              "      <td>0.776897</td>\n",
              "      <td>0.732420</td>\n",
              "    </tr>\n",
              "    <tr>\n",
              "      <th>1</th>\n",
              "      <td>1</td>\n",
              "      <td>NB</td>\n",
              "      <td>0.778029</td>\n",
              "      <td>0.738584</td>\n",
              "    </tr>\n",
              "    <tr>\n",
              "      <th>2</th>\n",
              "      <td>2</td>\n",
              "      <td>NB</td>\n",
              "      <td>0.763307</td>\n",
              "      <td>0.718586</td>\n",
              "    </tr>\n",
              "    <tr>\n",
              "      <th>3</th>\n",
              "      <td>3</td>\n",
              "      <td>NB</td>\n",
              "      <td>0.797282</td>\n",
              "      <td>0.761010</td>\n",
              "    </tr>\n",
              "    <tr>\n",
              "      <th>4</th>\n",
              "      <td>4</td>\n",
              "      <td>NB</td>\n",
              "      <td>0.788222</td>\n",
              "      <td>0.738191</td>\n",
              "    </tr>\n",
              "    <tr>\n",
              "      <th>5</th>\n",
              "      <td>5</td>\n",
              "      <td>NB</td>\n",
              "      <td>0.763307</td>\n",
              "      <td>0.712232</td>\n",
              "    </tr>\n",
              "    <tr>\n",
              "      <th>6</th>\n",
              "      <td>6</td>\n",
              "      <td>NB</td>\n",
              "      <td>0.728199</td>\n",
              "      <td>0.649213</td>\n",
              "    </tr>\n",
              "    <tr>\n",
              "      <th>7</th>\n",
              "      <td>7</td>\n",
              "      <td>NB</td>\n",
              "      <td>0.730464</td>\n",
              "      <td>0.638702</td>\n",
              "    </tr>\n",
              "    <tr>\n",
              "      <th>8</th>\n",
              "      <td>8</td>\n",
              "      <td>NB</td>\n",
              "      <td>0.728199</td>\n",
              "      <td>0.653027</td>\n",
              "    </tr>\n",
              "    <tr>\n",
              "      <th>9</th>\n",
              "      <td>9</td>\n",
              "      <td>NB</td>\n",
              "      <td>0.753968</td>\n",
              "      <td>0.689861</td>\n",
              "    </tr>\n",
              "  </tbody>\n",
              "</table>\n",
              "</div>"
            ],
            "text/plain": [
              "   Fold Model  Accuracy  F1_macro\n",
              "0     0    NB  0.776897  0.732420\n",
              "1     1    NB  0.778029  0.738584\n",
              "2     2    NB  0.763307  0.718586\n",
              "3     3    NB  0.797282  0.761010\n",
              "4     4    NB  0.788222  0.738191\n",
              "5     5    NB  0.763307  0.712232\n",
              "6     6    NB  0.728199  0.649213\n",
              "7     7    NB  0.730464  0.638702\n",
              "8     8    NB  0.728199  0.653027\n",
              "9     9    NB  0.753968  0.689861"
            ]
          },
          "metadata": {},
          "execution_count": 4
        }
      ]
    },
    {
      "cell_type": "markdown",
      "metadata": {
        "id": "1cH-2rBuBrgC"
      },
      "source": [
        "## Dataframe for Logistic Regression"
      ]
    },
    {
      "cell_type": "code",
      "metadata": {
        "colab": {
          "base_uri": "https://localhost:8080/",
          "height": 363
        },
        "id": "CEpkXjneBrgD",
        "outputId": "82179fd2-9b8c-4225-fd3e-956befffadae"
      },
      "source": [
        "with open('lr.all-folds-cv.acc.results.json') as json_file:\n",
        "  data = json.load(json_file)\n",
        "\n",
        "lr_scores_accuracy = data\n",
        "\n",
        "with open('lr.all-folds-cv.f1_macro.results.json') as json_file:\n",
        "  data = json.load(json_file)\n",
        "lr_scores_f1_macro = data\n",
        "\n",
        "# create Dataframe for t-test\n",
        "folds = [0,1,2,3,4,5,6,7,8,9]\n",
        "lr_data = pd.DataFrame(folds, columns=['Fold'])\n",
        "#NB_f1_macro = pd.DataFrame(scores_f1_macro, columns=['F1_macro'])\n",
        "lr_data['Model']='LR'\n",
        "lr_data['Accuracy']= lr_scores_accuracy\n",
        "lr_data['F1_macro']= lr_scores_f1_macro\n",
        "lr_data"
      ],
      "execution_count": null,
      "outputs": [
        {
          "output_type": "execute_result",
          "data": {
            "text/html": [
              "<div>\n",
              "<style scoped>\n",
              "    .dataframe tbody tr th:only-of-type {\n",
              "        vertical-align: middle;\n",
              "    }\n",
              "\n",
              "    .dataframe tbody tr th {\n",
              "        vertical-align: top;\n",
              "    }\n",
              "\n",
              "    .dataframe thead th {\n",
              "        text-align: right;\n",
              "    }\n",
              "</style>\n",
              "<table border=\"1\" class=\"dataframe\">\n",
              "  <thead>\n",
              "    <tr style=\"text-align: right;\">\n",
              "      <th></th>\n",
              "      <th>Fold</th>\n",
              "      <th>Model</th>\n",
              "      <th>Accuracy</th>\n",
              "      <th>F1_macro</th>\n",
              "    </tr>\n",
              "  </thead>\n",
              "  <tbody>\n",
              "    <tr>\n",
              "      <th>0</th>\n",
              "      <td>0</td>\n",
              "      <td>LR</td>\n",
              "      <td>0.814270</td>\n",
              "      <td>0.771229</td>\n",
              "    </tr>\n",
              "    <tr>\n",
              "      <th>1</th>\n",
              "      <td>1</td>\n",
              "      <td>LR</td>\n",
              "      <td>0.807475</td>\n",
              "      <td>0.766739</td>\n",
              "    </tr>\n",
              "    <tr>\n",
              "      <th>2</th>\n",
              "      <td>2</td>\n",
              "      <td>LR</td>\n",
              "      <td>0.825595</td>\n",
              "      <td>0.789175</td>\n",
              "    </tr>\n",
              "    <tr>\n",
              "      <th>3</th>\n",
              "      <td>3</td>\n",
              "      <td>LR</td>\n",
              "      <td>0.821065</td>\n",
              "      <td>0.776299</td>\n",
              "    </tr>\n",
              "    <tr>\n",
              "      <th>4</th>\n",
              "      <td>4</td>\n",
              "      <td>LR</td>\n",
              "      <td>0.806342</td>\n",
              "      <td>0.762890</td>\n",
              "    </tr>\n",
              "    <tr>\n",
              "      <th>5</th>\n",
              "      <td>5</td>\n",
              "      <td>LR</td>\n",
              "      <td>0.813137</td>\n",
              "      <td>0.770112</td>\n",
              "    </tr>\n",
              "    <tr>\n",
              "      <th>6</th>\n",
              "      <td>6</td>\n",
              "      <td>LR</td>\n",
              "      <td>0.796149</td>\n",
              "      <td>0.740467</td>\n",
              "    </tr>\n",
              "    <tr>\n",
              "      <th>7</th>\n",
              "      <td>7</td>\n",
              "      <td>LR</td>\n",
              "      <td>0.799547</td>\n",
              "      <td>0.743066</td>\n",
              "    </tr>\n",
              "    <tr>\n",
              "      <th>8</th>\n",
              "      <td>8</td>\n",
              "      <td>LR</td>\n",
              "      <td>0.763307</td>\n",
              "      <td>0.708808</td>\n",
              "    </tr>\n",
              "    <tr>\n",
              "      <th>9</th>\n",
              "      <td>9</td>\n",
              "      <td>LR</td>\n",
              "      <td>0.765306</td>\n",
              "      <td>0.706425</td>\n",
              "    </tr>\n",
              "  </tbody>\n",
              "</table>\n",
              "</div>"
            ],
            "text/plain": [
              "   Fold Model  Accuracy  F1_macro\n",
              "0     0    LR  0.814270  0.771229\n",
              "1     1    LR  0.807475  0.766739\n",
              "2     2    LR  0.825595  0.789175\n",
              "3     3    LR  0.821065  0.776299\n",
              "4     4    LR  0.806342  0.762890\n",
              "5     5    LR  0.813137  0.770112\n",
              "6     6    LR  0.796149  0.740467\n",
              "7     7    LR  0.799547  0.743066\n",
              "8     8    LR  0.763307  0.708808\n",
              "9     9    LR  0.765306  0.706425"
            ]
          },
          "metadata": {},
          "execution_count": 5
        }
      ]
    },
    {
      "cell_type": "markdown",
      "metadata": {
        "id": "Zsogs3i7z-TC"
      },
      "source": [
        "## Dataframe für bert-base-uncased"
      ]
    },
    {
      "cell_type": "code",
      "metadata": {
        "colab": {
          "base_uri": "https://localhost:8080/",
          "height": 420
        },
        "id": "rpGfHqra0grO",
        "outputId": "32409c7c-bab7-4564-e139-41c08b3e7ec4"
      },
      "source": [
        "with open('bert-base-uncased.all-folds-cv.results.json') as json_file:\n",
        "  data = json.load(json_file)\n",
        "\n",
        "bert_base_uncased_scores_accuracy = []\n",
        "bert_base_uncased_scores_accuracy.append(data[0][0]['acc'])\n",
        "bert_base_uncased_scores_accuracy.append(data[1][0]['acc'])\n",
        "bert_base_uncased_scores_accuracy.append(data[2][0]['acc'])\n",
        "bert_base_uncased_scores_accuracy.append(data[3][0]['acc'])\n",
        "bert_base_uncased_scores_accuracy.append(data[4][0]['acc'])\n",
        "bert_base_uncased_scores_accuracy.append(data[5][0]['acc'])\n",
        "bert_base_uncased_scores_accuracy.append(data[6][0]['acc'])\n",
        "bert_base_uncased_scores_accuracy.append(data[7][0]['acc'])\n",
        "bert_base_uncased_scores_accuracy.append(data[8][0]['acc'])\n",
        "bert_base_uncased_scores_accuracy.append(data[9][0]['acc'])\n",
        "print(bert_base_uncased_scores_accuracy)\n",
        "\n",
        "bert_base_uncased_scores_f1_macro = []\n",
        "bert_base_uncased_scores_f1_macro.append(data[0][0]['f1_macro'])\n",
        "bert_base_uncased_scores_f1_macro.append(data[1][0]['f1_macro'])\n",
        "bert_base_uncased_scores_f1_macro.append(data[2][0]['f1_macro'])\n",
        "bert_base_uncased_scores_f1_macro.append(data[3][0]['f1_macro'])\n",
        "bert_base_uncased_scores_f1_macro.append(data[4][0]['f1_macro'])\n",
        "bert_base_uncased_scores_f1_macro.append(data[5][0]['f1_macro'])\n",
        "bert_base_uncased_scores_f1_macro.append(data[6][0]['f1_macro'])\n",
        "bert_base_uncased_scores_f1_macro.append(data[7][0]['f1_macro'])\n",
        "bert_base_uncased_scores_f1_macro.append(data[8][0]['f1_macro'])\n",
        "bert_base_uncased_scores_f1_macro.append(data[9][0]['f1_macro'])\n",
        "print(bert_base_uncased_scores_f1_macro)\n",
        "\n",
        "# create Dataframe for t-test\n",
        "folds = [0,1,2,3,4,5,6,7,8,9]\n",
        "bert_base_uncased_data = pd.DataFrame(folds, columns=['Fold'])\n",
        "#NB_f1_macro = pd.DataFrame(scores_f1_macro, columns=['F1_macro'])\n",
        "bert_base_uncased_data['Model']='bert-base-uncased'\n",
        "bert_base_uncased_data['Accuracy']= bert_base_uncased_scores_accuracy\n",
        "bert_base_uncased_data['F1_macro']=bert_base_uncased_scores_f1_macro\n",
        "bert_base_uncased_data"
      ],
      "execution_count": null,
      "outputs": [
        {
          "output_type": "stream",
          "name": "stdout",
          "text": [
            "[0.9, 0.8818181818181818, 0.8803030303030303, 0.85, 0.9028831562974203, 0.8998482549317147, 0.858877086494689, 0.874051593323217, 0.8846737481031867, 0.8482549317147192]\n",
            "[0.8712217965091529, 0.8499930066669774, 0.844994425863991, 0.8173630852054037, 0.8777081883553699, 0.8775920297196893, 0.8131522385329493, 0.8453248497702368, 0.8581414846369981, 0.8205337690631808]\n"
          ]
        },
        {
          "output_type": "execute_result",
          "data": {
            "text/html": [
              "<div>\n",
              "<style scoped>\n",
              "    .dataframe tbody tr th:only-of-type {\n",
              "        vertical-align: middle;\n",
              "    }\n",
              "\n",
              "    .dataframe tbody tr th {\n",
              "        vertical-align: top;\n",
              "    }\n",
              "\n",
              "    .dataframe thead th {\n",
              "        text-align: right;\n",
              "    }\n",
              "</style>\n",
              "<table border=\"1\" class=\"dataframe\">\n",
              "  <thead>\n",
              "    <tr style=\"text-align: right;\">\n",
              "      <th></th>\n",
              "      <th>Fold</th>\n",
              "      <th>Model</th>\n",
              "      <th>Accuracy</th>\n",
              "      <th>F1_macro</th>\n",
              "    </tr>\n",
              "  </thead>\n",
              "  <tbody>\n",
              "    <tr>\n",
              "      <th>0</th>\n",
              "      <td>0</td>\n",
              "      <td>bert-base-uncased</td>\n",
              "      <td>0.900000</td>\n",
              "      <td>0.871222</td>\n",
              "    </tr>\n",
              "    <tr>\n",
              "      <th>1</th>\n",
              "      <td>1</td>\n",
              "      <td>bert-base-uncased</td>\n",
              "      <td>0.881818</td>\n",
              "      <td>0.849993</td>\n",
              "    </tr>\n",
              "    <tr>\n",
              "      <th>2</th>\n",
              "      <td>2</td>\n",
              "      <td>bert-base-uncased</td>\n",
              "      <td>0.880303</td>\n",
              "      <td>0.844994</td>\n",
              "    </tr>\n",
              "    <tr>\n",
              "      <th>3</th>\n",
              "      <td>3</td>\n",
              "      <td>bert-base-uncased</td>\n",
              "      <td>0.850000</td>\n",
              "      <td>0.817363</td>\n",
              "    </tr>\n",
              "    <tr>\n",
              "      <th>4</th>\n",
              "      <td>4</td>\n",
              "      <td>bert-base-uncased</td>\n",
              "      <td>0.902883</td>\n",
              "      <td>0.877708</td>\n",
              "    </tr>\n",
              "    <tr>\n",
              "      <th>5</th>\n",
              "      <td>5</td>\n",
              "      <td>bert-base-uncased</td>\n",
              "      <td>0.899848</td>\n",
              "      <td>0.877592</td>\n",
              "    </tr>\n",
              "    <tr>\n",
              "      <th>6</th>\n",
              "      <td>6</td>\n",
              "      <td>bert-base-uncased</td>\n",
              "      <td>0.858877</td>\n",
              "      <td>0.813152</td>\n",
              "    </tr>\n",
              "    <tr>\n",
              "      <th>7</th>\n",
              "      <td>7</td>\n",
              "      <td>bert-base-uncased</td>\n",
              "      <td>0.874052</td>\n",
              "      <td>0.845325</td>\n",
              "    </tr>\n",
              "    <tr>\n",
              "      <th>8</th>\n",
              "      <td>8</td>\n",
              "      <td>bert-base-uncased</td>\n",
              "      <td>0.884674</td>\n",
              "      <td>0.858141</td>\n",
              "    </tr>\n",
              "    <tr>\n",
              "      <th>9</th>\n",
              "      <td>9</td>\n",
              "      <td>bert-base-uncased</td>\n",
              "      <td>0.848255</td>\n",
              "      <td>0.820534</td>\n",
              "    </tr>\n",
              "  </tbody>\n",
              "</table>\n",
              "</div>"
            ],
            "text/plain": [
              "   Fold              Model  Accuracy  F1_macro\n",
              "0     0  bert-base-uncased  0.900000  0.871222\n",
              "1     1  bert-base-uncased  0.881818  0.849993\n",
              "2     2  bert-base-uncased  0.880303  0.844994\n",
              "3     3  bert-base-uncased  0.850000  0.817363\n",
              "4     4  bert-base-uncased  0.902883  0.877708\n",
              "5     5  bert-base-uncased  0.899848  0.877592\n",
              "6     6  bert-base-uncased  0.858877  0.813152\n",
              "7     7  bert-base-uncased  0.874052  0.845325\n",
              "8     8  bert-base-uncased  0.884674  0.858141\n",
              "9     9  bert-base-uncased  0.848255  0.820534"
            ]
          },
          "metadata": {},
          "execution_count": 6
        }
      ]
    },
    {
      "cell_type": "markdown",
      "metadata": {
        "id": "ZaJ7IYop1ykg"
      },
      "source": [
        "## Dataframe für distilbert-base-uncased"
      ]
    },
    {
      "cell_type": "code",
      "metadata": {
        "colab": {
          "base_uri": "https://localhost:8080/",
          "height": 420
        },
        "id": "sg-ybbrC1iEr",
        "outputId": "821e13c7-6ea3-45af-a140-3dcf6d15f74e"
      },
      "source": [
        "with open('distilbert-base-uncased.all-folds-cv.results.json') as json_file:\n",
        "  data = json.load(json_file)\n",
        "\n",
        "distilbert_base_uncased_scores_accuracy = []\n",
        "distilbert_base_uncased_scores_accuracy.append(data[0][0]['acc'])\n",
        "distilbert_base_uncased_scores_accuracy.append(data[1][0]['acc'])\n",
        "distilbert_base_uncased_scores_accuracy.append(data[2][0]['acc'])\n",
        "distilbert_base_uncased_scores_accuracy.append(data[3][0]['acc'])\n",
        "distilbert_base_uncased_scores_accuracy.append(data[4][0]['acc'])\n",
        "distilbert_base_uncased_scores_accuracy.append(data[5][0]['acc'])\n",
        "distilbert_base_uncased_scores_accuracy.append(data[6][0]['acc'])\n",
        "distilbert_base_uncased_scores_accuracy.append(data[7][0]['acc'])\n",
        "distilbert_base_uncased_scores_accuracy.append(data[8][0]['acc'])\n",
        "distilbert_base_uncased_scores_accuracy.append(data[9][0]['acc'])\n",
        "print(distilbert_base_uncased_scores_accuracy)\n",
        "\n",
        "distilbert_base_uncased_scores_f1_macro = []\n",
        "distilbert_base_uncased_scores_f1_macro.append(data[0][0]['f1_macro'])\n",
        "distilbert_base_uncased_scores_f1_macro.append(data[1][0]['f1_macro'])\n",
        "distilbert_base_uncased_scores_f1_macro.append(data[2][0]['f1_macro'])\n",
        "distilbert_base_uncased_scores_f1_macro.append(data[3][0]['f1_macro'])\n",
        "distilbert_base_uncased_scores_f1_macro.append(data[4][0]['f1_macro'])\n",
        "distilbert_base_uncased_scores_f1_macro.append(data[5][0]['f1_macro'])\n",
        "distilbert_base_uncased_scores_f1_macro.append(data[6][0]['f1_macro'])\n",
        "distilbert_base_uncased_scores_f1_macro.append(data[7][0]['f1_macro'])\n",
        "distilbert_base_uncased_scores_f1_macro.append(data[8][0]['f1_macro'])\n",
        "distilbert_base_uncased_scores_f1_macro.append(data[9][0]['f1_macro'])\n",
        "print(distilbert_base_uncased_scores_f1_macro)\n",
        "\n",
        "# create Dataframe for t-test\n",
        "folds = [0,1,2,3,4,5,6,7,8,9]\n",
        "distilbert_base_uncased_data = pd.DataFrame(folds, columns=['Fold'])\n",
        "#NB_f1_macro = pd.DataFrame(scores_f1_macro, columns=['F1_macro'])\n",
        "distilbert_base_uncased_data['Model']='distilbert-base-uncased'\n",
        "distilbert_base_uncased_data['Accuracy']= distilbert_base_uncased_scores_accuracy\n",
        "distilbert_base_uncased_data['F1_macro']= distilbert_base_uncased_scores_f1_macro\n",
        "distilbert_base_uncased_data"
      ],
      "execution_count": null,
      "outputs": [
        {
          "output_type": "stream",
          "name": "stdout",
          "text": [
            "[0.8893939393939394, 0.8666666666666667, 0.8742424242424243, 0.8681818181818182, 0.8952959028831563, 0.9028831562974203, 0.8770864946889226, 0.8649468892261002, 0.8801213960546282, 0.8406676783004552]\n",
            "[0.8613090149140306, 0.8379084383616696, 0.8406590050350358, 0.8374434859907539, 0.8674612404795424, 0.8793592677345539, 0.847059025778114, 0.8296420656382433, 0.8518203320458706, 0.8061748418053933]\n"
          ]
        },
        {
          "output_type": "execute_result",
          "data": {
            "text/html": [
              "<div>\n",
              "<style scoped>\n",
              "    .dataframe tbody tr th:only-of-type {\n",
              "        vertical-align: middle;\n",
              "    }\n",
              "\n",
              "    .dataframe tbody tr th {\n",
              "        vertical-align: top;\n",
              "    }\n",
              "\n",
              "    .dataframe thead th {\n",
              "        text-align: right;\n",
              "    }\n",
              "</style>\n",
              "<table border=\"1\" class=\"dataframe\">\n",
              "  <thead>\n",
              "    <tr style=\"text-align: right;\">\n",
              "      <th></th>\n",
              "      <th>Fold</th>\n",
              "      <th>Model</th>\n",
              "      <th>Accuracy</th>\n",
              "      <th>F1_macro</th>\n",
              "    </tr>\n",
              "  </thead>\n",
              "  <tbody>\n",
              "    <tr>\n",
              "      <th>0</th>\n",
              "      <td>0</td>\n",
              "      <td>distilbert-base-uncased</td>\n",
              "      <td>0.889394</td>\n",
              "      <td>0.861309</td>\n",
              "    </tr>\n",
              "    <tr>\n",
              "      <th>1</th>\n",
              "      <td>1</td>\n",
              "      <td>distilbert-base-uncased</td>\n",
              "      <td>0.866667</td>\n",
              "      <td>0.837908</td>\n",
              "    </tr>\n",
              "    <tr>\n",
              "      <th>2</th>\n",
              "      <td>2</td>\n",
              "      <td>distilbert-base-uncased</td>\n",
              "      <td>0.874242</td>\n",
              "      <td>0.840659</td>\n",
              "    </tr>\n",
              "    <tr>\n",
              "      <th>3</th>\n",
              "      <td>3</td>\n",
              "      <td>distilbert-base-uncased</td>\n",
              "      <td>0.868182</td>\n",
              "      <td>0.837443</td>\n",
              "    </tr>\n",
              "    <tr>\n",
              "      <th>4</th>\n",
              "      <td>4</td>\n",
              "      <td>distilbert-base-uncased</td>\n",
              "      <td>0.895296</td>\n",
              "      <td>0.867461</td>\n",
              "    </tr>\n",
              "    <tr>\n",
              "      <th>5</th>\n",
              "      <td>5</td>\n",
              "      <td>distilbert-base-uncased</td>\n",
              "      <td>0.902883</td>\n",
              "      <td>0.879359</td>\n",
              "    </tr>\n",
              "    <tr>\n",
              "      <th>6</th>\n",
              "      <td>6</td>\n",
              "      <td>distilbert-base-uncased</td>\n",
              "      <td>0.877086</td>\n",
              "      <td>0.847059</td>\n",
              "    </tr>\n",
              "    <tr>\n",
              "      <th>7</th>\n",
              "      <td>7</td>\n",
              "      <td>distilbert-base-uncased</td>\n",
              "      <td>0.864947</td>\n",
              "      <td>0.829642</td>\n",
              "    </tr>\n",
              "    <tr>\n",
              "      <th>8</th>\n",
              "      <td>8</td>\n",
              "      <td>distilbert-base-uncased</td>\n",
              "      <td>0.880121</td>\n",
              "      <td>0.851820</td>\n",
              "    </tr>\n",
              "    <tr>\n",
              "      <th>9</th>\n",
              "      <td>9</td>\n",
              "      <td>distilbert-base-uncased</td>\n",
              "      <td>0.840668</td>\n",
              "      <td>0.806175</td>\n",
              "    </tr>\n",
              "  </tbody>\n",
              "</table>\n",
              "</div>"
            ],
            "text/plain": [
              "   Fold                    Model  Accuracy  F1_macro\n",
              "0     0  distilbert-base-uncased  0.889394  0.861309\n",
              "1     1  distilbert-base-uncased  0.866667  0.837908\n",
              "2     2  distilbert-base-uncased  0.874242  0.840659\n",
              "3     3  distilbert-base-uncased  0.868182  0.837443\n",
              "4     4  distilbert-base-uncased  0.895296  0.867461\n",
              "5     5  distilbert-base-uncased  0.902883  0.879359\n",
              "6     6  distilbert-base-uncased  0.877086  0.847059\n",
              "7     7  distilbert-base-uncased  0.864947  0.829642\n",
              "8     8  distilbert-base-uncased  0.880121  0.851820\n",
              "9     9  distilbert-base-uncased  0.840668  0.806175"
            ]
          },
          "metadata": {},
          "execution_count": 7
        }
      ]
    },
    {
      "cell_type": "markdown",
      "metadata": {
        "id": "WCY7tBjO2Lsl"
      },
      "source": [
        "## Dataframe für distilbert-base-uncased-finetuned-sst-2-english"
      ]
    },
    {
      "cell_type": "code",
      "metadata": {
        "colab": {
          "base_uri": "https://localhost:8080/",
          "height": 420
        },
        "id": "xZCjf-Bp2IrK",
        "outputId": "9d2cebce-a582-4b21-af1c-97a1b4e5ff36"
      },
      "source": [
        "with open('distilbert-base-uncased-finetuned-sst-2-english.all-folds-cv.results.json') as json_file:\n",
        "  data = json.load(json_file)\n",
        "\n",
        "distilbert_base_uncased_finetuned_sst_2_english_scores_accuracy = []\n",
        "distilbert_base_uncased_finetuned_sst_2_english_scores_accuracy.append(data[0][0]['acc'])\n",
        "distilbert_base_uncased_finetuned_sst_2_english_scores_accuracy.append(data[1][0]['acc'])\n",
        "distilbert_base_uncased_finetuned_sst_2_english_scores_accuracy.append(data[2][0]['acc'])\n",
        "distilbert_base_uncased_finetuned_sst_2_english_scores_accuracy.append(data[3][0]['acc'])\n",
        "distilbert_base_uncased_finetuned_sst_2_english_scores_accuracy.append(data[4][0]['acc'])\n",
        "distilbert_base_uncased_finetuned_sst_2_english_scores_accuracy.append(data[5][0]['acc'])\n",
        "distilbert_base_uncased_finetuned_sst_2_english_scores_accuracy.append(data[6][0]['acc'])\n",
        "distilbert_base_uncased_finetuned_sst_2_english_scores_accuracy.append(data[7][0]['acc'])\n",
        "distilbert_base_uncased_finetuned_sst_2_english_scores_accuracy.append(data[8][0]['acc'])\n",
        "distilbert_base_uncased_finetuned_sst_2_english_scores_accuracy.append(data[9][0]['acc'])\n",
        "print(distilbert_base_uncased_finetuned_sst_2_english_scores_accuracy)\n",
        "\n",
        "distilbert_base_uncased_finetuned_sst_2_english_scores_f1_macro = []\n",
        "distilbert_base_uncased_finetuned_sst_2_english_scores_f1_macro.append(data[0][0]['f1_macro'])\n",
        "distilbert_base_uncased_finetuned_sst_2_english_scores_f1_macro.append(data[1][0]['f1_macro'])\n",
        "distilbert_base_uncased_finetuned_sst_2_english_scores_f1_macro.append(data[2][0]['f1_macro'])\n",
        "distilbert_base_uncased_finetuned_sst_2_english_scores_f1_macro.append(data[3][0]['f1_macro'])\n",
        "distilbert_base_uncased_finetuned_sst_2_english_scores_f1_macro.append(data[4][0]['f1_macro'])\n",
        "distilbert_base_uncased_finetuned_sst_2_english_scores_f1_macro.append(data[5][0]['f1_macro'])\n",
        "distilbert_base_uncased_finetuned_sst_2_english_scores_f1_macro.append(data[6][0]['f1_macro'])\n",
        "distilbert_base_uncased_finetuned_sst_2_english_scores_f1_macro.append(data[7][0]['f1_macro'])\n",
        "distilbert_base_uncased_finetuned_sst_2_english_scores_f1_macro.append(data[8][0]['f1_macro'])\n",
        "distilbert_base_uncased_finetuned_sst_2_english_scores_f1_macro.append(data[9][0]['f1_macro'])\n",
        "print(distilbert_base_uncased_finetuned_sst_2_english_scores_f1_macro)\n",
        "\n",
        "# create Dataframe for t-test\n",
        "folds = [0,1,2,3,4,5,6,7,8,9]\n",
        "distilbert_base_uncased_finetuned_sst_2_english_data = pd.DataFrame(folds, columns=['Fold'])\n",
        "#NB_f1_macro = pd.DataFrame(scores_f1_macro, columns=['F1_macro'])\n",
        "distilbert_base_uncased_finetuned_sst_2_english_data['Model']='distilbert-base-uncased-finetuned-sst-2-english'\n",
        "distilbert_base_uncased_finetuned_sst_2_english_data['Accuracy']= distilbert_base_uncased_finetuned_sst_2_english_scores_accuracy\n",
        "distilbert_base_uncased_finetuned_sst_2_english_data['F1_macro']= distilbert_base_uncased_finetuned_sst_2_english_scores_f1_macro\n",
        "distilbert_base_uncased_finetuned_sst_2_english_data"
      ],
      "execution_count": null,
      "outputs": [
        {
          "output_type": "stream",
          "name": "stdout",
          "text": [
            "[0.8863636363636364, 0.8696969696969697, 0.8651515151515151, 0.8636363636363636, 0.8725341426403642, 0.8937784522003035, 0.8831562974203339, 0.8710166919575114, 0.8846737481031867, 0.8482549317147192]\n",
            "[0.8575092618979766, 0.83518972345788, 0.8279190627828832, 0.8287177476095458, 0.8383634282510688, 0.8667040384659839, 0.8499531316070388, 0.8372986020140525, 0.8562588970014235, 0.8133440587328922]\n"
          ]
        },
        {
          "output_type": "execute_result",
          "data": {
            "text/html": [
              "<div>\n",
              "<style scoped>\n",
              "    .dataframe tbody tr th:only-of-type {\n",
              "        vertical-align: middle;\n",
              "    }\n",
              "\n",
              "    .dataframe tbody tr th {\n",
              "        vertical-align: top;\n",
              "    }\n",
              "\n",
              "    .dataframe thead th {\n",
              "        text-align: right;\n",
              "    }\n",
              "</style>\n",
              "<table border=\"1\" class=\"dataframe\">\n",
              "  <thead>\n",
              "    <tr style=\"text-align: right;\">\n",
              "      <th></th>\n",
              "      <th>Fold</th>\n",
              "      <th>Model</th>\n",
              "      <th>Accuracy</th>\n",
              "      <th>F1_macro</th>\n",
              "    </tr>\n",
              "  </thead>\n",
              "  <tbody>\n",
              "    <tr>\n",
              "      <th>0</th>\n",
              "      <td>0</td>\n",
              "      <td>distilbert-base-uncased-finetuned-sst-2-english</td>\n",
              "      <td>0.886364</td>\n",
              "      <td>0.857509</td>\n",
              "    </tr>\n",
              "    <tr>\n",
              "      <th>1</th>\n",
              "      <td>1</td>\n",
              "      <td>distilbert-base-uncased-finetuned-sst-2-english</td>\n",
              "      <td>0.869697</td>\n",
              "      <td>0.835190</td>\n",
              "    </tr>\n",
              "    <tr>\n",
              "      <th>2</th>\n",
              "      <td>2</td>\n",
              "      <td>distilbert-base-uncased-finetuned-sst-2-english</td>\n",
              "      <td>0.865152</td>\n",
              "      <td>0.827919</td>\n",
              "    </tr>\n",
              "    <tr>\n",
              "      <th>3</th>\n",
              "      <td>3</td>\n",
              "      <td>distilbert-base-uncased-finetuned-sst-2-english</td>\n",
              "      <td>0.863636</td>\n",
              "      <td>0.828718</td>\n",
              "    </tr>\n",
              "    <tr>\n",
              "      <th>4</th>\n",
              "      <td>4</td>\n",
              "      <td>distilbert-base-uncased-finetuned-sst-2-english</td>\n",
              "      <td>0.872534</td>\n",
              "      <td>0.838363</td>\n",
              "    </tr>\n",
              "    <tr>\n",
              "      <th>5</th>\n",
              "      <td>5</td>\n",
              "      <td>distilbert-base-uncased-finetuned-sst-2-english</td>\n",
              "      <td>0.893778</td>\n",
              "      <td>0.866704</td>\n",
              "    </tr>\n",
              "    <tr>\n",
              "      <th>6</th>\n",
              "      <td>6</td>\n",
              "      <td>distilbert-base-uncased-finetuned-sst-2-english</td>\n",
              "      <td>0.883156</td>\n",
              "      <td>0.849953</td>\n",
              "    </tr>\n",
              "    <tr>\n",
              "      <th>7</th>\n",
              "      <td>7</td>\n",
              "      <td>distilbert-base-uncased-finetuned-sst-2-english</td>\n",
              "      <td>0.871017</td>\n",
              "      <td>0.837299</td>\n",
              "    </tr>\n",
              "    <tr>\n",
              "      <th>8</th>\n",
              "      <td>8</td>\n",
              "      <td>distilbert-base-uncased-finetuned-sst-2-english</td>\n",
              "      <td>0.884674</td>\n",
              "      <td>0.856259</td>\n",
              "    </tr>\n",
              "    <tr>\n",
              "      <th>9</th>\n",
              "      <td>9</td>\n",
              "      <td>distilbert-base-uncased-finetuned-sst-2-english</td>\n",
              "      <td>0.848255</td>\n",
              "      <td>0.813344</td>\n",
              "    </tr>\n",
              "  </tbody>\n",
              "</table>\n",
              "</div>"
            ],
            "text/plain": [
              "   Fold                                            Model  Accuracy  F1_macro\n",
              "0     0  distilbert-base-uncased-finetuned-sst-2-english  0.886364  0.857509\n",
              "1     1  distilbert-base-uncased-finetuned-sst-2-english  0.869697  0.835190\n",
              "2     2  distilbert-base-uncased-finetuned-sst-2-english  0.865152  0.827919\n",
              "3     3  distilbert-base-uncased-finetuned-sst-2-english  0.863636  0.828718\n",
              "4     4  distilbert-base-uncased-finetuned-sst-2-english  0.872534  0.838363\n",
              "5     5  distilbert-base-uncased-finetuned-sst-2-english  0.893778  0.866704\n",
              "6     6  distilbert-base-uncased-finetuned-sst-2-english  0.883156  0.849953\n",
              "7     7  distilbert-base-uncased-finetuned-sst-2-english  0.871017  0.837299\n",
              "8     8  distilbert-base-uncased-finetuned-sst-2-english  0.884674  0.856259\n",
              "9     9  distilbert-base-uncased-finetuned-sst-2-english  0.848255  0.813344"
            ]
          },
          "metadata": {},
          "execution_count": 8
        }
      ]
    },
    {
      "cell_type": "markdown",
      "metadata": {
        "id": "X6ubNfRL3AnO"
      },
      "source": [
        "## Dataframe für albert-base-v2"
      ]
    },
    {
      "cell_type": "code",
      "metadata": {
        "colab": {
          "base_uri": "https://localhost:8080/",
          "height": 420
        },
        "id": "BrO5MxLx2_36",
        "outputId": "ecebfcb1-efd8-4e8d-bf14-8372329b7536"
      },
      "source": [
        "with open('albert-base-v2.all-folds-cv.results.json') as json_file:\n",
        "  data = json.load(json_file)\n",
        "\n",
        "albert_base_v2_scores_accuracy = []\n",
        "albert_base_v2_scores_accuracy.append(data[0][0]['acc'])\n",
        "albert_base_v2_scores_accuracy.append(data[1][0]['acc'])\n",
        "albert_base_v2_scores_accuracy.append(data[2][0]['acc'])\n",
        "albert_base_v2_scores_accuracy.append(data[3][0]['acc'])\n",
        "albert_base_v2_scores_accuracy.append(data[4][0]['acc'])\n",
        "albert_base_v2_scores_accuracy.append(data[5][0]['acc'])\n",
        "albert_base_v2_scores_accuracy.append(data[6][0]['acc'])\n",
        "albert_base_v2_scores_accuracy.append(data[7][0]['acc'])\n",
        "albert_base_v2_scores_accuracy.append(data[8][0]['acc'])\n",
        "albert_base_v2_scores_accuracy.append(data[9][0]['acc'])\n",
        "print(albert_base_v2_scores_accuracy)\n",
        "\n",
        "albert_base_v2_scores_f1_macro = []\n",
        "albert_base_v2_scores_f1_macro.append(data[0][0]['f1_macro'])\n",
        "albert_base_v2_scores_f1_macro.append(data[1][0]['f1_macro'])\n",
        "albert_base_v2_scores_f1_macro.append(data[2][0]['f1_macro'])\n",
        "albert_base_v2_scores_f1_macro.append(data[3][0]['f1_macro'])\n",
        "albert_base_v2_scores_f1_macro.append(data[4][0]['f1_macro'])\n",
        "albert_base_v2_scores_f1_macro.append(data[5][0]['f1_macro'])\n",
        "albert_base_v2_scores_f1_macro.append(data[6][0]['f1_macro'])\n",
        "albert_base_v2_scores_f1_macro.append(data[7][0]['f1_macro'])\n",
        "albert_base_v2_scores_f1_macro.append(data[8][0]['f1_macro'])\n",
        "albert_base_v2_scores_f1_macro.append(data[9][0]['f1_macro'])\n",
        "print(albert_base_v2_scores_f1_macro)\n",
        "\n",
        "# create Dataframe for t-test\n",
        "folds = [0,1,2,3,4,5,6,7,8,9]\n",
        "albert_base_v2_data = pd.DataFrame(folds, columns=['Fold'])\n",
        "albert_base_v2_data['Model']='albert-base-v2'\n",
        "albert_base_v2_data['Accuracy']= albert_base_v2_scores_accuracy\n",
        "albert_base_v2_data['F1_macro']= albert_base_v2_scores_f1_macro\n",
        "albert_base_v2_data"
      ],
      "execution_count": null,
      "outputs": [
        {
          "output_type": "stream",
          "name": "stdout",
          "text": [
            "[0.8939393939393939, 0.8757575757575757, 0.8772727272727273, 0.8757575757575757, 0.8770864946889226, 0.9044006069802731, 0.8861911987860395, 0.866464339908953, 0.8877086494688923, 0.8725341426403642]\n",
            "[0.8694192264643701, 0.8444756080739345, 0.8466327189270602, 0.8411673553719008, 0.8485637686710074, 0.8802388473021504, 0.8569369306784532, 0.8329992858294746, 0.8576058772687987, 0.8360113757554213]\n"
          ]
        },
        {
          "output_type": "execute_result",
          "data": {
            "text/html": [
              "<div>\n",
              "<style scoped>\n",
              "    .dataframe tbody tr th:only-of-type {\n",
              "        vertical-align: middle;\n",
              "    }\n",
              "\n",
              "    .dataframe tbody tr th {\n",
              "        vertical-align: top;\n",
              "    }\n",
              "\n",
              "    .dataframe thead th {\n",
              "        text-align: right;\n",
              "    }\n",
              "</style>\n",
              "<table border=\"1\" class=\"dataframe\">\n",
              "  <thead>\n",
              "    <tr style=\"text-align: right;\">\n",
              "      <th></th>\n",
              "      <th>Fold</th>\n",
              "      <th>Model</th>\n",
              "      <th>Accuracy</th>\n",
              "      <th>F1_macro</th>\n",
              "    </tr>\n",
              "  </thead>\n",
              "  <tbody>\n",
              "    <tr>\n",
              "      <th>0</th>\n",
              "      <td>0</td>\n",
              "      <td>albert-base-v2</td>\n",
              "      <td>0.893939</td>\n",
              "      <td>0.869419</td>\n",
              "    </tr>\n",
              "    <tr>\n",
              "      <th>1</th>\n",
              "      <td>1</td>\n",
              "      <td>albert-base-v2</td>\n",
              "      <td>0.875758</td>\n",
              "      <td>0.844476</td>\n",
              "    </tr>\n",
              "    <tr>\n",
              "      <th>2</th>\n",
              "      <td>2</td>\n",
              "      <td>albert-base-v2</td>\n",
              "      <td>0.877273</td>\n",
              "      <td>0.846633</td>\n",
              "    </tr>\n",
              "    <tr>\n",
              "      <th>3</th>\n",
              "      <td>3</td>\n",
              "      <td>albert-base-v2</td>\n",
              "      <td>0.875758</td>\n",
              "      <td>0.841167</td>\n",
              "    </tr>\n",
              "    <tr>\n",
              "      <th>4</th>\n",
              "      <td>4</td>\n",
              "      <td>albert-base-v2</td>\n",
              "      <td>0.877086</td>\n",
              "      <td>0.848564</td>\n",
              "    </tr>\n",
              "    <tr>\n",
              "      <th>5</th>\n",
              "      <td>5</td>\n",
              "      <td>albert-base-v2</td>\n",
              "      <td>0.904401</td>\n",
              "      <td>0.880239</td>\n",
              "    </tr>\n",
              "    <tr>\n",
              "      <th>6</th>\n",
              "      <td>6</td>\n",
              "      <td>albert-base-v2</td>\n",
              "      <td>0.886191</td>\n",
              "      <td>0.856937</td>\n",
              "    </tr>\n",
              "    <tr>\n",
              "      <th>7</th>\n",
              "      <td>7</td>\n",
              "      <td>albert-base-v2</td>\n",
              "      <td>0.866464</td>\n",
              "      <td>0.832999</td>\n",
              "    </tr>\n",
              "    <tr>\n",
              "      <th>8</th>\n",
              "      <td>8</td>\n",
              "      <td>albert-base-v2</td>\n",
              "      <td>0.887709</td>\n",
              "      <td>0.857606</td>\n",
              "    </tr>\n",
              "    <tr>\n",
              "      <th>9</th>\n",
              "      <td>9</td>\n",
              "      <td>albert-base-v2</td>\n",
              "      <td>0.872534</td>\n",
              "      <td>0.836011</td>\n",
              "    </tr>\n",
              "  </tbody>\n",
              "</table>\n",
              "</div>"
            ],
            "text/plain": [
              "   Fold           Model  Accuracy  F1_macro\n",
              "0     0  albert-base-v2  0.893939  0.869419\n",
              "1     1  albert-base-v2  0.875758  0.844476\n",
              "2     2  albert-base-v2  0.877273  0.846633\n",
              "3     3  albert-base-v2  0.875758  0.841167\n",
              "4     4  albert-base-v2  0.877086  0.848564\n",
              "5     5  albert-base-v2  0.904401  0.880239\n",
              "6     6  albert-base-v2  0.886191  0.856937\n",
              "7     7  albert-base-v2  0.866464  0.832999\n",
              "8     8  albert-base-v2  0.887709  0.857606\n",
              "9     9  albert-base-v2  0.872534  0.836011"
            ]
          },
          "metadata": {},
          "execution_count": 9
        }
      ]
    },
    {
      "cell_type": "markdown",
      "metadata": {
        "id": "gkXrpp8V3jal"
      },
      "source": [
        "## Dataframe für roberta-base"
      ]
    },
    {
      "cell_type": "code",
      "metadata": {
        "colab": {
          "base_uri": "https://localhost:8080/",
          "height": 420
        },
        "id": "0a_1z_bn3igE",
        "outputId": "5d4bd6be-8869-420e-fa93-220799980081"
      },
      "source": [
        "with open('roberta-base.all-folds-cv.results.json') as json_file:\n",
        "  data = json.load(json_file)\n",
        "\n",
        "roberta_base_scores_accuracy = []\n",
        "roberta_base_scores_accuracy.append(data[0][0]['acc'])\n",
        "roberta_base_scores_accuracy.append(data[1][0]['acc'])\n",
        "roberta_base_scores_accuracy.append(data[2][0]['acc'])\n",
        "roberta_base_scores_accuracy.append(data[3][0]['acc'])\n",
        "roberta_base_scores_accuracy.append(data[4][0]['acc'])\n",
        "roberta_base_scores_accuracy.append(data[5][0]['acc'])\n",
        "roberta_base_scores_accuracy.append(data[6][0]['acc'])\n",
        "roberta_base_scores_accuracy.append(data[7][0]['acc'])\n",
        "roberta_base_scores_accuracy.append(data[8][0]['acc'])\n",
        "roberta_base_scores_accuracy.append(data[9][0]['acc'])\n",
        "print(roberta_base_scores_accuracy)\n",
        "\n",
        "roberta_base_scores_f1_macro = []\n",
        "roberta_base_scores_f1_macro.append(data[0][0]['f1_macro'])\n",
        "roberta_base_scores_f1_macro.append(data[1][0]['f1_macro'])\n",
        "roberta_base_scores_f1_macro.append(data[2][0]['f1_macro'])\n",
        "roberta_base_scores_f1_macro.append(data[3][0]['f1_macro'])\n",
        "roberta_base_scores_f1_macro.append(data[4][0]['f1_macro'])\n",
        "roberta_base_scores_f1_macro.append(data[5][0]['f1_macro'])\n",
        "roberta_base_scores_f1_macro.append(data[6][0]['f1_macro'])\n",
        "roberta_base_scores_f1_macro.append(data[7][0]['f1_macro'])\n",
        "roberta_base_scores_f1_macro.append(data[8][0]['f1_macro'])\n",
        "roberta_base_scores_f1_macro.append(data[9][0]['f1_macro'])\n",
        "print(roberta_base_scores_f1_macro)\n",
        "\n",
        "# create Dataframe for t-test\n",
        "folds = [0,1,2,3,4,5,6,7,8,9]\n",
        "roberta_base_data = pd.DataFrame(folds, columns=['Fold'])\n",
        "roberta_base_data['Model']='roberta-base'\n",
        "roberta_base_data['Accuracy']= roberta_base_scores_accuracy\n",
        "roberta_base_data['F1_macro']= roberta_base_scores_f1_macro\n",
        "roberta_base_data"
      ],
      "execution_count": null,
      "outputs": [
        {
          "output_type": "stream",
          "name": "stdout",
          "text": [
            "[0.9151515151515152, 0.8803030303030303, 0.8712121212121212, 0.8742424242424243, 0.8983308042488619, 0.9256449165402124, 0.8998482549317147, 0.8846737481031867, 0.8968133535660091, 0.8710166919575114]\n",
            "[0.8886465250244038, 0.8483380891297329, 0.8344541857123045, 0.8478227654698243, 0.8708466792447311, 0.9068524367905615, 0.8706736601726968, 0.8552786703344968, 0.8691513466794365, 0.8349670169732217]\n"
          ]
        },
        {
          "output_type": "execute_result",
          "data": {
            "text/html": [
              "<div>\n",
              "<style scoped>\n",
              "    .dataframe tbody tr th:only-of-type {\n",
              "        vertical-align: middle;\n",
              "    }\n",
              "\n",
              "    .dataframe tbody tr th {\n",
              "        vertical-align: top;\n",
              "    }\n",
              "\n",
              "    .dataframe thead th {\n",
              "        text-align: right;\n",
              "    }\n",
              "</style>\n",
              "<table border=\"1\" class=\"dataframe\">\n",
              "  <thead>\n",
              "    <tr style=\"text-align: right;\">\n",
              "      <th></th>\n",
              "      <th>Fold</th>\n",
              "      <th>Model</th>\n",
              "      <th>Accuracy</th>\n",
              "      <th>F1_macro</th>\n",
              "    </tr>\n",
              "  </thead>\n",
              "  <tbody>\n",
              "    <tr>\n",
              "      <th>0</th>\n",
              "      <td>0</td>\n",
              "      <td>roberta-base</td>\n",
              "      <td>0.915152</td>\n",
              "      <td>0.888647</td>\n",
              "    </tr>\n",
              "    <tr>\n",
              "      <th>1</th>\n",
              "      <td>1</td>\n",
              "      <td>roberta-base</td>\n",
              "      <td>0.880303</td>\n",
              "      <td>0.848338</td>\n",
              "    </tr>\n",
              "    <tr>\n",
              "      <th>2</th>\n",
              "      <td>2</td>\n",
              "      <td>roberta-base</td>\n",
              "      <td>0.871212</td>\n",
              "      <td>0.834454</td>\n",
              "    </tr>\n",
              "    <tr>\n",
              "      <th>3</th>\n",
              "      <td>3</td>\n",
              "      <td>roberta-base</td>\n",
              "      <td>0.874242</td>\n",
              "      <td>0.847823</td>\n",
              "    </tr>\n",
              "    <tr>\n",
              "      <th>4</th>\n",
              "      <td>4</td>\n",
              "      <td>roberta-base</td>\n",
              "      <td>0.898331</td>\n",
              "      <td>0.870847</td>\n",
              "    </tr>\n",
              "    <tr>\n",
              "      <th>5</th>\n",
              "      <td>5</td>\n",
              "      <td>roberta-base</td>\n",
              "      <td>0.925645</td>\n",
              "      <td>0.906852</td>\n",
              "    </tr>\n",
              "    <tr>\n",
              "      <th>6</th>\n",
              "      <td>6</td>\n",
              "      <td>roberta-base</td>\n",
              "      <td>0.899848</td>\n",
              "      <td>0.870674</td>\n",
              "    </tr>\n",
              "    <tr>\n",
              "      <th>7</th>\n",
              "      <td>7</td>\n",
              "      <td>roberta-base</td>\n",
              "      <td>0.884674</td>\n",
              "      <td>0.855279</td>\n",
              "    </tr>\n",
              "    <tr>\n",
              "      <th>8</th>\n",
              "      <td>8</td>\n",
              "      <td>roberta-base</td>\n",
              "      <td>0.896813</td>\n",
              "      <td>0.869151</td>\n",
              "    </tr>\n",
              "    <tr>\n",
              "      <th>9</th>\n",
              "      <td>9</td>\n",
              "      <td>roberta-base</td>\n",
              "      <td>0.871017</td>\n",
              "      <td>0.834967</td>\n",
              "    </tr>\n",
              "  </tbody>\n",
              "</table>\n",
              "</div>"
            ],
            "text/plain": [
              "   Fold         Model  Accuracy  F1_macro\n",
              "0     0  roberta-base  0.915152  0.888647\n",
              "1     1  roberta-base  0.880303  0.848338\n",
              "2     2  roberta-base  0.871212  0.834454\n",
              "3     3  roberta-base  0.874242  0.847823\n",
              "4     4  roberta-base  0.898331  0.870847\n",
              "5     5  roberta-base  0.925645  0.906852\n",
              "6     6  roberta-base  0.899848  0.870674\n",
              "7     7  roberta-base  0.884674  0.855279\n",
              "8     8  roberta-base  0.896813  0.869151\n",
              "9     9  roberta-base  0.871017  0.834967"
            ]
          },
          "metadata": {},
          "execution_count": 10
        }
      ]
    },
    {
      "cell_type": "markdown",
      "metadata": {
        "id": "JuGfzM_14Tmj"
      },
      "source": [
        "## Dataframe für xlm-roberta-base"
      ]
    },
    {
      "cell_type": "code",
      "metadata": {
        "colab": {
          "base_uri": "https://localhost:8080/",
          "height": 420
        },
        "id": "MtPIMNGL4WoX",
        "outputId": "80c3271d-e2b1-4336-ffdd-d147645010bf"
      },
      "source": [
        "with open('xlm-roberta-base.all-folds-cv.results.json') as json_file:\n",
        "  data = json.load(json_file)\n",
        "\n",
        "xlm_roberta_base_scores_accuracy = []\n",
        "xlm_roberta_base_scores_accuracy.append(data[0][0]['acc'])\n",
        "xlm_roberta_base_scores_accuracy.append(data[1][0]['acc'])\n",
        "xlm_roberta_base_scores_accuracy.append(data[2][0]['acc'])\n",
        "xlm_roberta_base_scores_accuracy.append(data[3][0]['acc'])\n",
        "xlm_roberta_base_scores_accuracy.append(data[4][0]['acc'])\n",
        "xlm_roberta_base_scores_accuracy.append(data[5][0]['acc'])\n",
        "xlm_roberta_base_scores_accuracy.append(data[6][0]['acc'])\n",
        "xlm_roberta_base_scores_accuracy.append(data[7][0]['acc'])\n",
        "xlm_roberta_base_scores_accuracy.append(data[8][0]['acc'])\n",
        "xlm_roberta_base_scores_accuracy.append(data[9][0]['acc'])\n",
        "print(xlm_roberta_base_scores_accuracy)\n",
        "\n",
        "xlm_roberta_base_scores_f1_macro = []\n",
        "xlm_roberta_base_scores_f1_macro.append(data[0][0]['f1_macro'])\n",
        "xlm_roberta_base_scores_f1_macro.append(data[1][0]['f1_macro'])\n",
        "xlm_roberta_base_scores_f1_macro.append(data[2][0]['f1_macro'])\n",
        "xlm_roberta_base_scores_f1_macro.append(data[3][0]['f1_macro'])\n",
        "xlm_roberta_base_scores_f1_macro.append(data[4][0]['f1_macro'])\n",
        "xlm_roberta_base_scores_f1_macro.append(data[5][0]['f1_macro'])\n",
        "xlm_roberta_base_scores_f1_macro.append(data[6][0]['f1_macro'])\n",
        "xlm_roberta_base_scores_f1_macro.append(data[7][0]['f1_macro'])\n",
        "xlm_roberta_base_scores_f1_macro.append(data[8][0]['f1_macro'])\n",
        "xlm_roberta_base_scores_f1_macro.append(data[9][0]['f1_macro'])\n",
        "print(xlm_roberta_base_scores_f1_macro)\n",
        "\n",
        "# create Dataframe for t-test\n",
        "folds = [0,1,2,3,4,5,6,7,8,9]\n",
        "xlm_roberta_base_data = pd.DataFrame(folds, columns=['Fold'])\n",
        "xlm_roberta_base_data['Model']='xlm-roberta-base'\n",
        "xlm_roberta_base_data['Accuracy']= xlm_roberta_base_scores_accuracy\n",
        "xlm_roberta_base_data['F1_macro']= xlm_roberta_base_scores_f1_macro\n",
        "xlm_roberta_base_data"
      ],
      "execution_count": null,
      "outputs": [
        {
          "output_type": "stream",
          "name": "stdout",
          "text": [
            "[0.8939393939393939, 0.8666666666666667, 0.8560606060606061, 0.8696969696969697, 0.8952959028831563, 0.8952959028831563, 0.8801213960546282, 0.881638846737481, 0.8755690440060698, 0.8801213960546282]\n",
            "[0.86678047036298, 0.8347652916073969, 0.8169743851711304, 0.8346076740174366, 0.8679247475172895, 0.8619182824433276, 0.8498233164582523, 0.8509568545581072, 0.8433136163303177, 0.8380104858658619]\n"
          ]
        },
        {
          "output_type": "execute_result",
          "data": {
            "text/html": [
              "<div>\n",
              "<style scoped>\n",
              "    .dataframe tbody tr th:only-of-type {\n",
              "        vertical-align: middle;\n",
              "    }\n",
              "\n",
              "    .dataframe tbody tr th {\n",
              "        vertical-align: top;\n",
              "    }\n",
              "\n",
              "    .dataframe thead th {\n",
              "        text-align: right;\n",
              "    }\n",
              "</style>\n",
              "<table border=\"1\" class=\"dataframe\">\n",
              "  <thead>\n",
              "    <tr style=\"text-align: right;\">\n",
              "      <th></th>\n",
              "      <th>Fold</th>\n",
              "      <th>Model</th>\n",
              "      <th>Accuracy</th>\n",
              "      <th>F1_macro</th>\n",
              "    </tr>\n",
              "  </thead>\n",
              "  <tbody>\n",
              "    <tr>\n",
              "      <th>0</th>\n",
              "      <td>0</td>\n",
              "      <td>xlm-roberta-base</td>\n",
              "      <td>0.893939</td>\n",
              "      <td>0.866780</td>\n",
              "    </tr>\n",
              "    <tr>\n",
              "      <th>1</th>\n",
              "      <td>1</td>\n",
              "      <td>xlm-roberta-base</td>\n",
              "      <td>0.866667</td>\n",
              "      <td>0.834765</td>\n",
              "    </tr>\n",
              "    <tr>\n",
              "      <th>2</th>\n",
              "      <td>2</td>\n",
              "      <td>xlm-roberta-base</td>\n",
              "      <td>0.856061</td>\n",
              "      <td>0.816974</td>\n",
              "    </tr>\n",
              "    <tr>\n",
              "      <th>3</th>\n",
              "      <td>3</td>\n",
              "      <td>xlm-roberta-base</td>\n",
              "      <td>0.869697</td>\n",
              "      <td>0.834608</td>\n",
              "    </tr>\n",
              "    <tr>\n",
              "      <th>4</th>\n",
              "      <td>4</td>\n",
              "      <td>xlm-roberta-base</td>\n",
              "      <td>0.895296</td>\n",
              "      <td>0.867925</td>\n",
              "    </tr>\n",
              "    <tr>\n",
              "      <th>5</th>\n",
              "      <td>5</td>\n",
              "      <td>xlm-roberta-base</td>\n",
              "      <td>0.895296</td>\n",
              "      <td>0.861918</td>\n",
              "    </tr>\n",
              "    <tr>\n",
              "      <th>6</th>\n",
              "      <td>6</td>\n",
              "      <td>xlm-roberta-base</td>\n",
              "      <td>0.880121</td>\n",
              "      <td>0.849823</td>\n",
              "    </tr>\n",
              "    <tr>\n",
              "      <th>7</th>\n",
              "      <td>7</td>\n",
              "      <td>xlm-roberta-base</td>\n",
              "      <td>0.881639</td>\n",
              "      <td>0.850957</td>\n",
              "    </tr>\n",
              "    <tr>\n",
              "      <th>8</th>\n",
              "      <td>8</td>\n",
              "      <td>xlm-roberta-base</td>\n",
              "      <td>0.875569</td>\n",
              "      <td>0.843314</td>\n",
              "    </tr>\n",
              "    <tr>\n",
              "      <th>9</th>\n",
              "      <td>9</td>\n",
              "      <td>xlm-roberta-base</td>\n",
              "      <td>0.880121</td>\n",
              "      <td>0.838010</td>\n",
              "    </tr>\n",
              "  </tbody>\n",
              "</table>\n",
              "</div>"
            ],
            "text/plain": [
              "   Fold             Model  Accuracy  F1_macro\n",
              "0     0  xlm-roberta-base  0.893939  0.866780\n",
              "1     1  xlm-roberta-base  0.866667  0.834765\n",
              "2     2  xlm-roberta-base  0.856061  0.816974\n",
              "3     3  xlm-roberta-base  0.869697  0.834608\n",
              "4     4  xlm-roberta-base  0.895296  0.867925\n",
              "5     5  xlm-roberta-base  0.895296  0.861918\n",
              "6     6  xlm-roberta-base  0.880121  0.849823\n",
              "7     7  xlm-roberta-base  0.881639  0.850957\n",
              "8     8  xlm-roberta-base  0.875569  0.843314\n",
              "9     9  xlm-roberta-base  0.880121  0.838010"
            ]
          },
          "metadata": {},
          "execution_count": 11
        }
      ]
    },
    {
      "cell_type": "markdown",
      "metadata": {
        "id": "oPTUiD2u42gK"
      },
      "source": [
        "# Concatenating Dataframes for plotting"
      ]
    },
    {
      "cell_type": "code",
      "metadata": {
        "colab": {
          "base_uri": "https://localhost:8080/",
          "height": 424
        },
        "id": "Pql5lakN43jB",
        "outputId": "8f9414f3-b8d0-4386-ef91-1787253822d3"
      },
      "source": [
        "frames = [svm_data, nb_data, lr_data, bert_base_uncased_data, distilbert_base_uncased_data, distilbert_base_uncased_finetuned_sst_2_english_data, albert_base_v2_data, roberta_base_data, xlm_roberta_base_data]\n",
        "\n",
        "result = pd.concat(frames)\n",
        "result"
      ],
      "execution_count": null,
      "outputs": [
        {
          "output_type": "execute_result",
          "data": {
            "text/html": [
              "<div>\n",
              "<style scoped>\n",
              "    .dataframe tbody tr th:only-of-type {\n",
              "        vertical-align: middle;\n",
              "    }\n",
              "\n",
              "    .dataframe tbody tr th {\n",
              "        vertical-align: top;\n",
              "    }\n",
              "\n",
              "    .dataframe thead th {\n",
              "        text-align: right;\n",
              "    }\n",
              "</style>\n",
              "<table border=\"1\" class=\"dataframe\">\n",
              "  <thead>\n",
              "    <tr style=\"text-align: right;\">\n",
              "      <th></th>\n",
              "      <th>Fold</th>\n",
              "      <th>Model</th>\n",
              "      <th>Accuracy</th>\n",
              "      <th>F1_macro</th>\n",
              "    </tr>\n",
              "  </thead>\n",
              "  <tbody>\n",
              "    <tr>\n",
              "      <th>0</th>\n",
              "      <td>0</td>\n",
              "      <td>SVM</td>\n",
              "      <td>0.798414</td>\n",
              "      <td>0.764046</td>\n",
              "    </tr>\n",
              "    <tr>\n",
              "      <th>1</th>\n",
              "      <td>1</td>\n",
              "      <td>SVM</td>\n",
              "      <td>0.780294</td>\n",
              "      <td>0.745867</td>\n",
              "    </tr>\n",
              "    <tr>\n",
              "      <th>2</th>\n",
              "      <td>2</td>\n",
              "      <td>SVM</td>\n",
              "      <td>0.796149</td>\n",
              "      <td>0.762821</td>\n",
              "    </tr>\n",
              "    <tr>\n",
              "      <th>3</th>\n",
              "      <td>3</td>\n",
              "      <td>SVM</td>\n",
              "      <td>0.796149</td>\n",
              "      <td>0.759424</td>\n",
              "    </tr>\n",
              "    <tr>\n",
              "      <th>4</th>\n",
              "      <td>4</td>\n",
              "      <td>SVM</td>\n",
              "      <td>0.787089</td>\n",
              "      <td>0.751291</td>\n",
              "    </tr>\n",
              "    <tr>\n",
              "      <th>...</th>\n",
              "      <td>...</td>\n",
              "      <td>...</td>\n",
              "      <td>...</td>\n",
              "      <td>...</td>\n",
              "    </tr>\n",
              "    <tr>\n",
              "      <th>5</th>\n",
              "      <td>5</td>\n",
              "      <td>xlm-roberta-base</td>\n",
              "      <td>0.895296</td>\n",
              "      <td>0.861918</td>\n",
              "    </tr>\n",
              "    <tr>\n",
              "      <th>6</th>\n",
              "      <td>6</td>\n",
              "      <td>xlm-roberta-base</td>\n",
              "      <td>0.880121</td>\n",
              "      <td>0.849823</td>\n",
              "    </tr>\n",
              "    <tr>\n",
              "      <th>7</th>\n",
              "      <td>7</td>\n",
              "      <td>xlm-roberta-base</td>\n",
              "      <td>0.881639</td>\n",
              "      <td>0.850957</td>\n",
              "    </tr>\n",
              "    <tr>\n",
              "      <th>8</th>\n",
              "      <td>8</td>\n",
              "      <td>xlm-roberta-base</td>\n",
              "      <td>0.875569</td>\n",
              "      <td>0.843314</td>\n",
              "    </tr>\n",
              "    <tr>\n",
              "      <th>9</th>\n",
              "      <td>9</td>\n",
              "      <td>xlm-roberta-base</td>\n",
              "      <td>0.880121</td>\n",
              "      <td>0.838010</td>\n",
              "    </tr>\n",
              "  </tbody>\n",
              "</table>\n",
              "<p>90 rows × 4 columns</p>\n",
              "</div>"
            ],
            "text/plain": [
              "    Fold             Model  Accuracy  F1_macro\n",
              "0      0               SVM  0.798414  0.764046\n",
              "1      1               SVM  0.780294  0.745867\n",
              "2      2               SVM  0.796149  0.762821\n",
              "3      3               SVM  0.796149  0.759424\n",
              "4      4               SVM  0.787089  0.751291\n",
              "..   ...               ...       ...       ...\n",
              "5      5  xlm-roberta-base  0.895296  0.861918\n",
              "6      6  xlm-roberta-base  0.880121  0.849823\n",
              "7      7  xlm-roberta-base  0.881639  0.850957\n",
              "8      8  xlm-roberta-base  0.875569  0.843314\n",
              "9      9  xlm-roberta-base  0.880121  0.838010\n",
              "\n",
              "[90 rows x 4 columns]"
            ]
          },
          "metadata": {},
          "execution_count": 12
        }
      ]
    },
    {
      "cell_type": "code",
      "metadata": {
        "id": "md527zkG5Yuo"
      },
      "source": [
        "svm = result[result['Model'] == 'SVM']\n",
        "nb = result[result['Model'] == 'NB']\n",
        "lr = result[result['Model'] == 'LR']\n",
        "bert = result[result['Model'] == 'BERT (Baseline)']\n",
        "distilbert = result[result['Model'] == 'DistilBERT']\n",
        "distilbert_finetuned_sst_2 = result[result['Model'] == 'DistilBERT finetuned sst 2']\n",
        "albert = result[result['Model'] == 'ALBERT V2']\n",
        "roberta = result[result['Model'] == 'RoBERTa']\n",
        "xlm_roberta = result[result['Model'] == 'XLMRoBERTa']"
      ],
      "execution_count": null,
      "outputs": []
    },
    {
      "cell_type": "markdown",
      "metadata": {
        "id": "_HMV12Vq6Tzl"
      },
      "source": [
        "# Plotting Accuracy across all classifiers"
      ]
    },
    {
      "cell_type": "code",
      "metadata": {
        "colab": {
          "base_uri": "https://localhost:8080/",
          "height": 517
        },
        "id": "9vzQG96R6MzY",
        "outputId": "63a456de-4e92-4c2c-ecd2-01521aa15a9b"
      },
      "source": [
        "sns.set(style='darkgrid')\n",
        "model_plot = sns.catplot(x=\"Model\", y = \"Accuracy\", \n",
        "                         hue=\"Model\", \n",
        "                         kind=\"bar\", \n",
        "                         data=result,\n",
        "                         height=7,\n",
        "                         # make bars thicker\n",
        "                         dodge=False,\n",
        "                         capsize=.1)\n",
        "model_plot.set_axis_labels(\"Model\", \"Accuracy\")\n",
        "# remove labels of individual bars\n",
        "model_plot.set(xticklabels=[])\n",
        "# show legend out of the chart\n",
        "plt.legend(bbox_to_anchor=(1.025, 1), loc=2, borderaxespad=0.)"
      ],
      "execution_count": null,
      "outputs": [
        {
          "output_type": "execute_result",
          "data": {
            "text/plain": [
              "<matplotlib.legend.Legend at 0x7f3379674410>"
            ]
          },
          "metadata": {},
          "execution_count": 14
        },
        {
          "output_type": "display_data",
          "data": {
            "image/png": "[encoded data removed]",
            "text/plain": [
              "<Figure size 504x504 with 1 Axes>"
            ]
          },
          "metadata": {}
        }
      ]
    },
    {
      "cell_type": "markdown",
      "metadata": {
        "id": "SuNbYeWF6QQW"
      },
      "source": [
        "# Plotting F1_macro across all classifiers"
      ]
    },
    {
      "cell_type": "code",
      "metadata": {
        "colab": {
          "base_uri": "https://localhost:8080/",
          "height": 517
        },
        "id": "K5PVGken6PFj",
        "outputId": "bcee2ac1-2f4b-41ee-a4e9-9e62577673c9"
      },
      "source": [
        "sns.set(style='darkgrid')\n",
        "model_plot = sns.catplot(x=\"Model\", y = \"F1_macro\",\n",
        "                         legend=True, \n",
        "                         hue=\"Model\", \n",
        "                         kind=\"bar\", \n",
        "                         data=result,\n",
        "                         height=7,\n",
        "                         # make bars thicker\n",
        "                         dodge=False,\n",
        "                         capsize=.1)\n",
        "model_plot.set_axis_labels(\"Model\", \"F1_macro\")\n",
        "# remove labels of individual bars\n",
        "model_plot.set(xticklabels=[])\n",
        "# show legend out of the chart\n",
        "plt.legend(bbox_to_anchor=(1.025, 1), loc=2, borderaxespad=0.)"
      ],
      "execution_count": null,
      "outputs": [
        {
          "output_type": "execute_result",
          "data": {
            "text/plain": [
              "<matplotlib.legend.Legend at 0x7f337964ee50>"
            ]
          },
          "metadata": {},
          "execution_count": 15
        },
        {
          "output_type": "display_data",
          "data": {
            "image/png": "[encoded data removed]",
            "text/plain": [
              "<Figure size 504x504 with 1 Axes>"
            ]
          },
          "metadata": {}
        }
      ]
    },
    {
      "cell_type": "markdown",
      "metadata": {
        "id": "iHJDU31S9qIk"
      },
      "source": [
        "# Comparing classifiers using t-test with p < 0.05"
      ]
    },
    {
      "cell_type": "markdown",
      "metadata": {
        "id": "h264dBjX-B2X"
      },
      "source": [
        "## Comparing BERT with SVM"
      ]
    },
    {
      "cell_type": "markdown",
      "metadata": {
        "id": "RlU0JlAs92a8"
      },
      "source": [
        "### Comparing Accuracy"
      ]
    },
    {
      "cell_type": "code",
      "metadata": {
        "colab": {
          "base_uri": "https://localhost:8080/"
        },
        "id": "8cfESrqY9t6U",
        "outputId": "7ba87904-ff67-4a42-f174-3bd0d4209846"
      },
      "source": [
        "print(stats.ttest_ind(bert_base_uncased_data['Accuracy'], svm_data['Accuracy']))\n",
        "p = stats.ttest_ind(bert_base_uncased_data['Accuracy'], svm_data['Accuracy']).pvalue\n",
        "if p <= 0.05:\n",
        "\tprint('Difference between mean performance is probably real')\n",
        "else:\n",
        "\tprint('Algorithms probably have the same performance')"
      ],
      "execution_count": null,
      "outputs": [
        {
          "output_type": "stream",
          "name": "stdout",
          "text": [
            "Ttest_indResult(statistic=11.906225141994556, pvalue=5.725289673903479e-10)\n",
            "Difference between mean performance is probably real\n"
          ]
        }
      ]
    },
    {
      "cell_type": "markdown",
      "metadata": {
        "id": "7XLyoXc_98WN"
      },
      "source": [
        "### Comparing F1-macro"
      ]
    },
    {
      "cell_type": "code",
      "metadata": {
        "colab": {
          "base_uri": "https://localhost:8080/"
        },
        "id": "uziLTgUy9za0",
        "outputId": "fed838a6-6d09-4f89-9d7a-75b34be31a33"
      },
      "source": [
        "print(stats.ttest_ind(bert_base_uncased_data['F1_macro'], svm_data['F1_macro']))\n",
        "p = stats.ttest_ind(bert_base_uncased_data['F1_macro'], svm_data['F1_macro']).pvalue\n",
        "if p <= 0.05:\n",
        "\tprint('Difference between mean performance is probably real')\n",
        "else:\n",
        "\tprint('Algorithms probably have the same performance')"
      ],
      "execution_count": null,
      "outputs": [
        {
          "output_type": "stream",
          "name": "stdout",
          "text": [
            "Ttest_indResult(statistic=10.744667143306083, pvalue=2.924535762134197e-09)\n",
            "Difference between mean performance is probably real\n"
          ]
        }
      ]
    },
    {
      "cell_type": "markdown",
      "metadata": {
        "id": "pxjcvobcCyTT"
      },
      "source": [
        "## Comparing BERT with Naive Bayes"
      ]
    },
    {
      "cell_type": "markdown",
      "metadata": {
        "id": "4b-kNKB6CyTT"
      },
      "source": [
        "### Comparing Accuracy"
      ]
    },
    {
      "cell_type": "code",
      "metadata": {
        "colab": {
          "base_uri": "https://localhost:8080/"
        },
        "id": "RKZRVO1RCyTT",
        "outputId": "b3a3a214-83ee-4330-87f7-ac9e96557cb1"
      },
      "source": [
        "print(stats.ttest_ind(bert_base_uncased_data['Accuracy'], nb_data['Accuracy']))\n",
        "p = stats.ttest_ind(bert_base_uncased_data['Accuracy'], nb_data['Accuracy']).pvalue\n",
        "if p <= 0.05:\n",
        "\tprint('Difference between mean performance is probably real')\n",
        "else:\n",
        "\tprint('Algorithms probably have the same performance')"
      ],
      "execution_count": null,
      "outputs": [
        {
          "output_type": "stream",
          "name": "stdout",
          "text": [
            "Ttest_indResult(statistic=11.452420922203407, pvalue=1.0663509843857591e-09)\n",
            "Difference between mean performance is probably real\n"
          ]
        }
      ]
    },
    {
      "cell_type": "markdown",
      "metadata": {
        "id": "_0eUpxVyCyTU"
      },
      "source": [
        "### Comparing F1-macro"
      ]
    },
    {
      "cell_type": "code",
      "metadata": {
        "colab": {
          "base_uri": "https://localhost:8080/"
        },
        "id": "AB8_S3pgCyTU",
        "outputId": "22e7f95c-f63a-4102-fa25-9bf14d98c30d"
      },
      "source": [
        "print(stats.ttest_ind(bert_base_uncased_data['F1_macro'], nb_data['F1_macro']))\n",
        "p = stats.ttest_ind(bert_base_uncased_data['F1_macro'], nb_data['F1_macro']).pvalue\n",
        "if p <= 0.05:\n",
        "\tprint('Difference between mean performance is probably real')\n",
        "else:\n",
        "\tprint('Algorithms probably have the same performance')"
      ],
      "execution_count": null,
      "outputs": [
        {
          "output_type": "stream",
          "name": "stdout",
          "text": [
            "Ttest_indResult(statistic=9.219007187251165, pvalue=3.074590083838241e-08)\n",
            "Difference between mean performance is probably real\n"
          ]
        }
      ]
    },
    {
      "cell_type": "markdown",
      "metadata": {
        "id": "5Mr21I8PC5Wn"
      },
      "source": [
        "## Comparing BERT with Logistic Regression"
      ]
    },
    {
      "cell_type": "markdown",
      "metadata": {
        "id": "5KCspPQBC5Wq"
      },
      "source": [
        "### Comparing Accuracy"
      ]
    },
    {
      "cell_type": "code",
      "metadata": {
        "colab": {
          "base_uri": "https://localhost:8080/"
        },
        "id": "FBoJdnB2C5Wq",
        "outputId": "3db1bb7b-306c-4e68-c593-3f8c9f85f0aa"
      },
      "source": [
        "print(stats.ttest_ind(bert_base_uncased_data['Accuracy'], lr_data['Accuracy']))\n",
        "p = stats.ttest_ind(bert_base_uncased_data['Accuracy'], lr_data['Accuracy']).pvalue\n",
        "if p <= 0.05:\n",
        "\tprint('Difference between mean performance is probably real')\n",
        "else:\n",
        "\tprint('Algorithms probably have the same performance')"
      ],
      "execution_count": null,
      "outputs": [
        {
          "output_type": "stream",
          "name": "stdout",
          "text": [
            "Ttest_indResult(statistic=8.246631076661416, pvalue=1.5860998395088798e-07)\n",
            "Difference between mean performance is probably real\n"
          ]
        }
      ]
    },
    {
      "cell_type": "markdown",
      "metadata": {
        "id": "9_-jiqP7C5Wr"
      },
      "source": [
        "### Comparing F1-macro"
      ]
    },
    {
      "cell_type": "code",
      "metadata": {
        "colab": {
          "base_uri": "https://localhost:8080/"
        },
        "id": "425ZnspCC5Ws",
        "outputId": "f4b15d20-b6dc-4a3e-cc3f-f025f340a5f0"
      },
      "source": [
        "print(stats.ttest_ind(bert_base_uncased_data['F1_macro'], lr_data['F1_macro']))\n",
        "p = stats.ttest_ind(bert_base_uncased_data['F1_macro'], lr_data['F1_macro']).pvalue\n",
        "if p <= 0.05:\n",
        "\tprint('Difference between mean performance is probably real')\n",
        "else:\n",
        "\tprint('Algorithms probably have the same performance')"
      ],
      "execution_count": null,
      "outputs": [
        {
          "output_type": "stream",
          "name": "stdout",
          "text": [
            "Ttest_indResult(statistic=7.994371482966108, pvalue=2.4754053719705093e-07)\n",
            "Difference between mean performance is probably real\n"
          ]
        }
      ]
    },
    {
      "cell_type": "markdown",
      "metadata": {
        "id": "Z7GxF67xCmHv"
      },
      "source": [
        "## Comparing BERT with DistilBERT finetuned sst 2"
      ]
    },
    {
      "cell_type": "markdown",
      "metadata": {
        "id": "hGbfwddKCmHx"
      },
      "source": [
        "### Comparing Accuracy"
      ]
    },
    {
      "cell_type": "code",
      "metadata": {
        "colab": {
          "base_uri": "https://localhost:8080/"
        },
        "id": "SMNx4olMCmHx",
        "outputId": "5955ef08-b523-4b49-9cdf-8864abe75b59"
      },
      "source": [
        "print(stats.ttest_ind(bert_base_uncased_data['Accuracy'], distilbert_base_uncased_finetuned_sst_2_english_data['Accuracy']))\n",
        "p = stats.ttest_ind(bert_base_uncased_data['Accuracy'], distilbert_base_uncased_finetuned_sst_2_english_data['Accuracy']).pvalue\n",
        "if p <= 0.05:\n",
        "\tprint('Difference between mean performance is probably real')\n",
        "else:\n",
        "\tprint('Algorithms probably have the same performance')"
      ],
      "execution_count": null,
      "outputs": [
        {
          "output_type": "stream",
          "name": "stdout",
          "text": [
            "Ttest_indResult(statistic=0.552380911250734, pvalue=0.5874816655658879)\n",
            "Algorithms probably have the same performance\n"
          ]
        }
      ]
    },
    {
      "cell_type": "markdown",
      "metadata": {
        "id": "Npxpg4uuCmHy"
      },
      "source": [
        "### Comparing F1-macro"
      ]
    },
    {
      "cell_type": "code",
      "metadata": {
        "colab": {
          "base_uri": "https://localhost:8080/"
        },
        "id": "vMFE7tYVCmHy",
        "outputId": "49754b26-9a53-40af-eedd-016c4ab080f3"
      },
      "source": [
        "print(stats.ttest_ind(bert_base_uncased_data['F1_macro'], distilbert_base_uncased_finetuned_sst_2_english_data['F1_macro']))\n",
        "p = stats.ttest_ind(bert_base_uncased_data['F1_macro'], distilbert_base_uncased_finetuned_sst_2_english_data['F1_macro']).pvalue\n",
        "if p <= 0.05:\n",
        "\tprint('Difference between mean performance is probably real')\n",
        "else:\n",
        "\tprint('Algorithms probably have the same performance')"
      ],
      "execution_count": null,
      "outputs": [
        {
          "output_type": "stream",
          "name": "stdout",
          "text": [
            "Ttest_indResult(statistic=0.6995918436991949, pvalue=0.4931249506758538)\n",
            "Algorithms probably have the same performance\n"
          ]
        }
      ]
    },
    {
      "cell_type": "markdown",
      "metadata": {
        "id": "Utxg-TR__KdC"
      },
      "source": [
        "## Comparing BERT with DistilBERT"
      ]
    },
    {
      "cell_type": "markdown",
      "metadata": {
        "id": "_1JFOVeE-6A1"
      },
      "source": [
        "### Comparing Accuracy"
      ]
    },
    {
      "cell_type": "code",
      "metadata": {
        "colab": {
          "base_uri": "https://localhost:8080/"
        },
        "id": "wqsMZrQx-6A2",
        "outputId": "0df9544b-09cd-4f34-ac32-e6f818bd69f8"
      },
      "source": [
        "print(stats.ttest_ind(bert_base_uncased_data['Accuracy'], distilbert_base_uncased_data['Accuracy']))\n",
        "p = stats.ttest_ind(bert_base_uncased_data['Accuracy'], distilbert_base_uncased_data['Accuracy']).pvalue\n",
        "if p <= 0.05:\n",
        "\tprint('Difference between mean performance is probably real')\n",
        "else:\n",
        "\tprint('Algorithms probably have the same performance')"
      ],
      "execution_count": null,
      "outputs": [
        {
          "output_type": "stream",
          "name": "stdout",
          "text": [
            "Ttest_indResult(statistic=0.24955771199768925, pvalue=0.8057551054597842)\n",
            "Algorithms probably have the same performance\n"
          ]
        }
      ]
    },
    {
      "cell_type": "markdown",
      "metadata": {
        "id": "7lyjM3Xk-6A5"
      },
      "source": [
        "### Comparing F1-macro"
      ]
    },
    {
      "cell_type": "code",
      "metadata": {
        "colab": {
          "base_uri": "https://localhost:8080/"
        },
        "id": "ObNM0aST-6A6",
        "outputId": "ad8ebb3d-b869-4a4e-8f6a-fe23c357485c"
      },
      "source": [
        "print(stats.ttest_ind(bert_base_uncased_data['F1_macro'], distilbert_base_uncased_data['F1_macro']))\n",
        "p = stats.ttest_ind(bert_base_uncased_data['F1_macro'], distilbert_base_uncased_data['F1_macro']).pvalue\n",
        "if p <= 0.05:\n",
        "\tprint('Difference between mean performance is probably real')\n",
        "else:\n",
        "\tprint('Algorithms probably have the same performance')"
      ],
      "execution_count": null,
      "outputs": [
        {
          "output_type": "stream",
          "name": "stdout",
          "text": [
            "Ttest_indResult(statistic=0.17009714052765096, pvalue=0.8668309616881962)\n",
            "Algorithms probably have the same performance\n"
          ]
        }
      ]
    },
    {
      "cell_type": "markdown",
      "metadata": {
        "id": "09QRw6K0_SuF"
      },
      "source": [
        "## Comparing BERT with ALBERT"
      ]
    },
    {
      "cell_type": "markdown",
      "metadata": {
        "id": "wvecenRl_SuH"
      },
      "source": [
        "### Comparing Accuracy"
      ]
    },
    {
      "cell_type": "code",
      "metadata": {
        "colab": {
          "base_uri": "https://localhost:8080/"
        },
        "id": "YYmpCO3Y_SuH",
        "outputId": "c04aff31-3da9-48c6-c393-4ebe5dd0ba4f"
      },
      "source": [
        "print(stats.ttest_ind(bert_base_uncased_data['Accuracy'], albert_base_v2_data['Accuracy']))\n",
        "p = stats.ttest_ind(bert_base_uncased_data['Accuracy'], albert_base_v2_data['Accuracy']).pvalue\n",
        "if p <= 0.05:\n",
        "\tprint('Difference between mean performance is probably real')\n",
        "else:\n",
        "\tprint('Algorithms probably have the same performance')"
      ],
      "execution_count": null,
      "outputs": [
        {
          "output_type": "stream",
          "name": "stdout",
          "text": [
            "Ttest_indResult(statistic=-0.4961970123216971, pvalue=0.6257600414339308)\n",
            "Algorithms probably have the same performance\n"
          ]
        }
      ]
    },
    {
      "cell_type": "markdown",
      "metadata": {
        "id": "T7KdU7js_SuI"
      },
      "source": [
        "### Comparing F1-macro"
      ]
    },
    {
      "cell_type": "code",
      "metadata": {
        "colab": {
          "base_uri": "https://localhost:8080/"
        },
        "id": "5mMhjyIm_SuI",
        "outputId": "a5c8d787-afe5-46d6-bd55-06c31402311f"
      },
      "source": [
        "print(stats.ttest_ind(bert_base_uncased_data['F1_macro'], albert_base_v2_data['F1_macro']))\n",
        "p = stats.ttest_ind(bert_base_uncased_data['F1_macro'], albert_base_v2_data['F1_macro']).pvalue\n",
        "if p <= 0.05:\n",
        "\tprint('Difference between mean performance is probably real')\n",
        "else:\n",
        "\tprint('Algorithms probably have the same performance')"
      ],
      "execution_count": null,
      "outputs": [
        {
          "output_type": "stream",
          "name": "stdout",
          "text": [
            "Ttest_indResult(statistic=-0.42191407987311036, pvalue=0.6780839211460237)\n",
            "Algorithms probably have the same performance\n"
          ]
        }
      ]
    },
    {
      "cell_type": "markdown",
      "metadata": {
        "id": "yXDmpLSz_gsc"
      },
      "source": [
        "## Comparing BERT with RoBERTa"
      ]
    },
    {
      "cell_type": "markdown",
      "metadata": {
        "id": "n9U9fYi4_gsd"
      },
      "source": [
        "### Comparing Accuracy"
      ]
    },
    {
      "cell_type": "code",
      "metadata": {
        "colab": {
          "base_uri": "https://localhost:8080/"
        },
        "id": "ZIwBgX1d_gse",
        "outputId": "4359a42b-953d-4eb5-dc73-95981850df9d"
      },
      "source": [
        "print(stats.ttest_ind(bert_base_uncased_data['Accuracy'], roberta_base_data['Accuracy']))\n",
        "p = stats.ttest_ind(bert_base_uncased_data['Accuracy'], roberta_base_data['Accuracy']).pvalue\n",
        "if p <= 0.05:\n",
        "\tprint('Difference between mean performance is probably real')\n",
        "else:\n",
        "\tprint('Algorithms probably have the same performance')"
      ],
      "execution_count": null,
      "outputs": [
        {
          "output_type": "stream",
          "name": "stdout",
          "text": [
            "Ttest_indResult(statistic=-1.5631886079131527, pvalue=0.13541842146436198)\n",
            "Algorithms probably have the same performance\n"
          ]
        }
      ]
    },
    {
      "cell_type": "markdown",
      "metadata": {
        "id": "hZVN7cte_gse"
      },
      "source": [
        "### Comparing F1-macro"
      ]
    },
    {
      "cell_type": "code",
      "metadata": {
        "colab": {
          "base_uri": "https://localhost:8080/"
        },
        "id": "lHteURXc_gsf",
        "outputId": "cd454824-ecb1-4ab8-c18b-77c97d1156a4"
      },
      "source": [
        "print(stats.ttest_ind(bert_base_uncased_data['F1_macro'], roberta_base_data['F1_macro']))\n",
        "p = stats.ttest_ind(bert_base_uncased_data['F1_macro'], roberta_base_data['F1_macro']).pvalue\n",
        "if p <= 0.05:\n",
        "\tprint('Difference between mean performance is probably real')\n",
        "else:\n",
        "\tprint('Algorithms probably have the same performance')"
      ],
      "execution_count": null,
      "outputs": [
        {
          "output_type": "stream",
          "name": "stdout",
          "text": [
            "Ttest_indResult(statistic=-1.420537569342565, pvalue=0.1725422716973249)\n",
            "Algorithms probably have the same performance\n"
          ]
        }
      ]
    },
    {
      "cell_type": "markdown",
      "metadata": {
        "id": "Mmt98yBE_u71"
      },
      "source": [
        "## Comparing BERT with XLMRoBERTa"
      ]
    },
    {
      "cell_type": "markdown",
      "metadata": {
        "id": "T71PwmAl_u73"
      },
      "source": [
        "### Comparing Accuracy"
      ]
    },
    {
      "cell_type": "code",
      "metadata": {
        "colab": {
          "base_uri": "https://localhost:8080/"
        },
        "id": "ZoAkxIcr_u74",
        "outputId": "23efa4d0-2eb1-4f3a-fae8-e179b08422e0"
      },
      "source": [
        "print(stats.ttest_ind(bert_base_uncased_data['Accuracy'], xlm_roberta_base_data['Accuracy']))\n",
        "p = stats.ttest_ind(bert_base_uncased_data['Accuracy'], xlm_roberta_base_data['Accuracy']).pvalue\n",
        "if p <= 0.05:\n",
        "\tprint('Difference between mean performance is probably real')\n",
        "else:\n",
        "\tprint('Algorithms probably have the same performance')"
      ],
      "execution_count": null,
      "outputs": [
        {
          "output_type": "stream",
          "name": "stdout",
          "text": [
            "Ttest_indResult(statistic=-0.17960853343237687, pvalue=0.8594663152289816)\n",
            "Algorithms probably have the same performance\n"
          ]
        }
      ]
    },
    {
      "cell_type": "markdown",
      "metadata": {
        "id": "vzINpSTX_u74"
      },
      "source": [
        "### Comparing F1-macro"
      ]
    },
    {
      "cell_type": "code",
      "metadata": {
        "colab": {
          "base_uri": "https://localhost:8080/"
        },
        "id": "l5B9Na69_u75",
        "outputId": "76f93f7c-80b5-4d0e-a7ae-572e8f4b0868"
      },
      "source": [
        "print(stats.ttest_ind(bert_base_uncased_data['F1_macro'], xlm_roberta_base_data['F1_macro']))\n",
        "p = stats.ttest_ind(bert_base_uncased_data['F1_macro'], xlm_roberta_base_data['F1_macro']).pvalue\n",
        "if p <= 0.05:\n",
        "\tprint('Difference between mean performance is probably real')\n",
        "else:\n",
        "\tprint('Algorithms probably have the same performance')"
      ],
      "execution_count": null,
      "outputs": [
        {
          "output_type": "stream",
          "name": "stdout",
          "text": [
            "Ttest_indResult(statistic=0.11839282188638903, pvalue=0.9070676278272639)\n",
            "Algorithms probably have the same performance\n"
          ]
        }
      ]
    },
    {
      "cell_type": "markdown",
      "metadata": {
        "id": "eQdNmTtCFVL7"
      },
      "source": [
        "# Comparing classifiers using t-test with p < 0.001"
      ]
    },
    {
      "cell_type": "markdown",
      "metadata": {
        "id": "pkmg2PSwDJa3"
      },
      "source": [
        "## Comparing BERT with SVM"
      ]
    },
    {
      "cell_type": "markdown",
      "metadata": {
        "id": "ApntyOqmDJa4"
      },
      "source": [
        "### Comparing Accuracy"
      ]
    },
    {
      "cell_type": "code",
      "metadata": {
        "colab": {
          "base_uri": "https://localhost:8080/"
        },
        "id": "Sao5KO4EDJa5",
        "outputId": "e1e5f424-a22f-4e95-c1ba-76fa2dd5973c"
      },
      "source": [
        "print(stats.ttest_ind(bert_base_uncased_data['Accuracy'], svm_data['Accuracy']))\n",
        "p = stats.ttest_ind(bert_base_uncased_data['Accuracy'], svm_data['Accuracy']).pvalue\n",
        "if p <= 0.001:\n",
        "\tprint('Difference between mean performance is probably real')\n",
        "else:\n",
        "\tprint('Algorithms probably have the same performance')"
      ],
      "execution_count": null,
      "outputs": [
        {
          "output_type": "stream",
          "name": "stdout",
          "text": [
            "Ttest_indResult(statistic=11.906225141994556, pvalue=5.725289673903479e-10)\n",
            "Difference between mean performance is probably real\n"
          ]
        }
      ]
    },
    {
      "cell_type": "markdown",
      "metadata": {
        "id": "yvg2waEHDJa6"
      },
      "source": [
        "### Comparing F1-macro"
      ]
    },
    {
      "cell_type": "code",
      "metadata": {
        "colab": {
          "base_uri": "https://localhost:8080/"
        },
        "id": "XwRYghemDJa7",
        "outputId": "10f0e243-f411-4b9f-b30e-3b533bf34d3c"
      },
      "source": [
        "print(stats.ttest_ind(bert_base_uncased_data['F1_macro'], svm_data['F1_macro']))\n",
        "p = stats.ttest_ind(bert_base_uncased_data['F1_macro'], svm_data['F1_macro']).pvalue\n",
        "if p <= 0.001:\n",
        "\tprint('Difference between mean performance is probably real')\n",
        "else:\n",
        "\tprint('Algorithms probably have the same performance')"
      ],
      "execution_count": null,
      "outputs": [
        {
          "output_type": "stream",
          "name": "stdout",
          "text": [
            "Ttest_indResult(statistic=10.744667143306083, pvalue=2.924535762134197e-09)\n",
            "Difference between mean performance is probably real\n"
          ]
        }
      ]
    },
    {
      "cell_type": "markdown",
      "metadata": {
        "id": "wXhtY6OsDSGz"
      },
      "source": [
        "## Comparing BERT with Naive Bayes"
      ]
    },
    {
      "cell_type": "markdown",
      "metadata": {
        "id": "EDbFz28CDSG1"
      },
      "source": [
        "### Comparing Accuracy"
      ]
    },
    {
      "cell_type": "code",
      "metadata": {
        "colab": {
          "base_uri": "https://localhost:8080/"
        },
        "id": "1iGZAVo-DSG2",
        "outputId": "31e71ab9-776d-4e21-a7be-17b33602ad7d"
      },
      "source": [
        "print(stats.ttest_ind(bert_base_uncased_data['Accuracy'], nb_data['Accuracy']))\n",
        "p = stats.ttest_ind(bert_base_uncased_data['Accuracy'], nb_data['Accuracy']).pvalue\n",
        "if p <= 0.001:\n",
        "\tprint('Difference between mean performance is probably real')\n",
        "else:\n",
        "\tprint('Algorithms probably have the same performance')"
      ],
      "execution_count": null,
      "outputs": [
        {
          "output_type": "stream",
          "name": "stdout",
          "text": [
            "Ttest_indResult(statistic=11.452420922203407, pvalue=1.0663509843857591e-09)\n",
            "Difference between mean performance is probably real\n"
          ]
        }
      ]
    },
    {
      "cell_type": "markdown",
      "metadata": {
        "id": "f1TM7ZJ9DSG4"
      },
      "source": [
        "### Comparing F1-macro"
      ]
    },
    {
      "cell_type": "code",
      "metadata": {
        "colab": {
          "base_uri": "https://localhost:8080/"
        },
        "id": "gOZYjKr8DSG4",
        "outputId": "661099b8-57c0-4ab8-9e9e-5de9691aeff2"
      },
      "source": [
        "print(stats.ttest_ind(bert_base_uncased_data['F1_macro'], nb_data['F1_macro']))\n",
        "p = stats.ttest_ind(bert_base_uncased_data['F1_macro'], nb_data['F1_macro']).pvalue\n",
        "if p <= 0.001:\n",
        "\tprint('Difference between mean performance is probably real')\n",
        "else:\n",
        "\tprint('Algorithms probably have the same performance')"
      ],
      "execution_count": null,
      "outputs": [
        {
          "output_type": "stream",
          "name": "stdout",
          "text": [
            "Ttest_indResult(statistic=9.219007187251165, pvalue=3.074590083838241e-08)\n",
            "Difference between mean performance is probably real\n"
          ]
        }
      ]
    },
    {
      "cell_type": "markdown",
      "metadata": {
        "id": "d_cC5L8CDY-l"
      },
      "source": [
        "## Comparing BERT with Logistic Regression"
      ]
    },
    {
      "cell_type": "markdown",
      "metadata": {
        "id": "VPxUVV2TDY-m"
      },
      "source": [
        "### Comparing Accuracy"
      ]
    },
    {
      "cell_type": "code",
      "metadata": {
        "colab": {
          "base_uri": "https://localhost:8080/"
        },
        "id": "Cq3GW_jmDY-m",
        "outputId": "fe19f8f3-5e8d-4d5e-c6cb-d91859199355"
      },
      "source": [
        "print(stats.ttest_ind(bert_base_uncased_data['Accuracy'], lr_data['Accuracy']))\n",
        "p = stats.ttest_ind(bert_base_uncased_data['Accuracy'], lr_data['Accuracy']).pvalue\n",
        "if p <= 0.001:\n",
        "\tprint('Difference between mean performance is probably real')\n",
        "else:\n",
        "\tprint('Algorithms probably have the same performance')"
      ],
      "execution_count": null,
      "outputs": [
        {
          "output_type": "stream",
          "name": "stdout",
          "text": [
            "Ttest_indResult(statistic=8.246631076661416, pvalue=1.5860998395088798e-07)\n",
            "Difference between mean performance is probably real\n"
          ]
        }
      ]
    },
    {
      "cell_type": "markdown",
      "metadata": {
        "id": "-nbwMgWDDY-n"
      },
      "source": [
        "### Comparing F1-macro"
      ]
    },
    {
      "cell_type": "code",
      "metadata": {
        "colab": {
          "base_uri": "https://localhost:8080/"
        },
        "id": "BA95J1gaDY-n",
        "outputId": "9553c2b1-996f-4b67-ce14-147455d1aaf9"
      },
      "source": [
        "print(stats.ttest_ind(bert_base_uncased_data['F1_macro'], lr_data['F1_macro']))\n",
        "p = stats.ttest_ind(bert_base_uncased_data['F1_macro'], lr_data['F1_macro']).pvalue\n",
        "if p <= 0.001:\n",
        "\tprint('Difference between mean performance is probably real')\n",
        "else:\n",
        "\tprint('Algorithms probably have the same performance')"
      ],
      "execution_count": null,
      "outputs": [
        {
          "output_type": "stream",
          "name": "stdout",
          "text": [
            "Ttest_indResult(statistic=7.994371482966108, pvalue=2.4754053719705093e-07)\n",
            "Difference between mean performance is probably real\n"
          ]
        }
      ]
    },
    {
      "cell_type": "markdown",
      "metadata": {
        "id": "ntsElpq0FVL_"
      },
      "source": [
        "## Comparing BERT with DistilBERT finetuned sst 2"
      ]
    },
    {
      "cell_type": "markdown",
      "metadata": {
        "id": "0f918zeDFVMA"
      },
      "source": [
        "### Comparing Accuracy"
      ]
    },
    {
      "cell_type": "code",
      "metadata": {
        "colab": {
          "base_uri": "https://localhost:8080/"
        },
        "id": "RY6wi4kSFVMA",
        "outputId": "7f580a69-4049-4da2-b447-05d4e1892153"
      },
      "source": [
        "print(stats.ttest_ind(bert_base_uncased_data['Accuracy'], distilbert_base_uncased_finetuned_sst_2_english_data['Accuracy']))\n",
        "p = stats.ttest_ind(bert_base_uncased_data['Accuracy'], distilbert_base_uncased_finetuned_sst_2_english_data['Accuracy']).pvalue\n",
        "if p <= 0.001:\n",
        "\tprint('Difference between mean performance is probably real')\n",
        "else:\n",
        "\tprint('Algorithms probably have the same performance')"
      ],
      "execution_count": null,
      "outputs": [
        {
          "output_type": "stream",
          "name": "stdout",
          "text": [
            "Ttest_indResult(statistic=0.552380911250734, pvalue=0.5874816655658879)\n",
            "Algorithms probably have the same performance\n"
          ]
        }
      ]
    },
    {
      "cell_type": "markdown",
      "metadata": {
        "id": "Jc9MvlSgFVMC"
      },
      "source": [
        "### Comparing F1-macro"
      ]
    },
    {
      "cell_type": "code",
      "metadata": {
        "colab": {
          "base_uri": "https://localhost:8080/"
        },
        "id": "N-TAqtylFVMC",
        "outputId": "a70e473c-639e-4297-c47e-1d2e6970fe30"
      },
      "source": [
        "print(stats.ttest_ind(bert_base_uncased_data['F1_macro'], distilbert_base_uncased_finetuned_sst_2_english_data['F1_macro']))\n",
        "p = stats.ttest_ind(bert_base_uncased_data['F1_macro'], distilbert_base_uncased_finetuned_sst_2_english_data['F1_macro']).pvalue\n",
        "if p <= 0.001:\n",
        "\tprint('Difference between mean performance is probably real')\n",
        "else:\n",
        "\tprint('Algorithms probably have the same performance')"
      ],
      "execution_count": null,
      "outputs": [
        {
          "output_type": "stream",
          "name": "stdout",
          "text": [
            "Ttest_indResult(statistic=0.6995918436991949, pvalue=0.4931249506758538)\n",
            "Algorithms probably have the same performance\n"
          ]
        }
      ]
    },
    {
      "cell_type": "markdown",
      "metadata": {
        "id": "3Jup5DlVFVMD"
      },
      "source": [
        "## Comparing BERT with DistilBERT"
      ]
    },
    {
      "cell_type": "markdown",
      "metadata": {
        "id": "FSSuXMOxFVMD"
      },
      "source": [
        "### Comparing Accuracy"
      ]
    },
    {
      "cell_type": "code",
      "metadata": {
        "colab": {
          "base_uri": "https://localhost:8080/"
        },
        "id": "SAIaOlUHFVMD",
        "outputId": "c80f0854-a96d-45b1-f97d-9e5e3146d12c"
      },
      "source": [
        "print(stats.ttest_ind(bert_base_uncased_data['Accuracy'], distilbert_base_uncased_data['Accuracy']))\n",
        "p = stats.ttest_ind(bert_base_uncased_data['Accuracy'], distilbert_base_uncased_data['Accuracy']).pvalue\n",
        "if p <= 0.001:\n",
        "\tprint('Difference between mean performance is probably real')\n",
        "else:\n",
        "\tprint('Algorithms probably have the same performance')"
      ],
      "execution_count": null,
      "outputs": [
        {
          "output_type": "stream",
          "name": "stdout",
          "text": [
            "Ttest_indResult(statistic=0.24955771199768925, pvalue=0.8057551054597842)\n",
            "Algorithms probably have the same performance\n"
          ]
        }
      ]
    },
    {
      "cell_type": "markdown",
      "metadata": {
        "id": "_A05VUf3FVME"
      },
      "source": [
        "### Comparing F1-macro"
      ]
    },
    {
      "cell_type": "code",
      "metadata": {
        "colab": {
          "base_uri": "https://localhost:8080/"
        },
        "id": "Owhox-XnFVMF",
        "outputId": "50bf2c63-60ec-49a5-8d99-3665dbc7d712"
      },
      "source": [
        "print(stats.ttest_ind(bert_base_uncased_data['F1_macro'], distilbert_base_uncased_data['F1_macro']))\n",
        "p = stats.ttest_ind(bert_base_uncased_data['F1_macro'], distilbert_base_uncased_data['F1_macro']).pvalue\n",
        "if p <= 0.001:\n",
        "\tprint('Difference between mean performance is probably real')\n",
        "else:\n",
        "\tprint('Algorithms probably have the same performance')"
      ],
      "execution_count": null,
      "outputs": [
        {
          "output_type": "stream",
          "name": "stdout",
          "text": [
            "Ttest_indResult(statistic=0.17009714052765096, pvalue=0.8668309616881962)\n",
            "Algorithms probably have the same performance\n"
          ]
        }
      ]
    },
    {
      "cell_type": "markdown",
      "metadata": {
        "id": "1sTee0puFVMG"
      },
      "source": [
        "## Comparing BERT with ALBERT"
      ]
    },
    {
      "cell_type": "markdown",
      "metadata": {
        "id": "QIKfo7GbFVMH"
      },
      "source": [
        "### Comparing Accuracy"
      ]
    },
    {
      "cell_type": "code",
      "metadata": {
        "colab": {
          "base_uri": "https://localhost:8080/"
        },
        "id": "dBCuG8tqFVMH",
        "outputId": "f83be904-a539-4d5f-faf2-825f1b191108"
      },
      "source": [
        "print(stats.ttest_ind(bert_base_uncased_data['Accuracy'], albert_base_v2_data['Accuracy']))\n",
        "p = stats.ttest_ind(bert_base_uncased_data['Accuracy'], albert_base_v2_data['Accuracy']).pvalue\n",
        "if p <= 0.001:\n",
        "\tprint('Difference between mean performance is probably real')\n",
        "else:\n",
        "\tprint('Algorithms probably have the same performance')"
      ],
      "execution_count": null,
      "outputs": [
        {
          "output_type": "stream",
          "name": "stdout",
          "text": [
            "Ttest_indResult(statistic=-0.4961970123216971, pvalue=0.6257600414339308)\n",
            "Algorithms probably have the same performance\n"
          ]
        }
      ]
    },
    {
      "cell_type": "markdown",
      "metadata": {
        "id": "CvrjMzShFVMH"
      },
      "source": [
        "### Comparing F1-macro"
      ]
    },
    {
      "cell_type": "code",
      "metadata": {
        "colab": {
          "base_uri": "https://localhost:8080/"
        },
        "id": "IpD1wjdHFVMH",
        "outputId": "7c36d5ad-b472-4379-ab8c-a28449307761"
      },
      "source": [
        "print(stats.ttest_ind(bert_base_uncased_data['F1_macro'], albert_base_v2_data['F1_macro']))\n",
        "p = stats.ttest_ind(bert_base_uncased_data['F1_macro'], albert_base_v2_data['F1_macro']).pvalue\n",
        "if p <= 0.001:\n",
        "\tprint('Difference between mean performance is probably real')\n",
        "else:\n",
        "\tprint('Algorithms probably have the same performance')"
      ],
      "execution_count": null,
      "outputs": [
        {
          "output_type": "stream",
          "name": "stdout",
          "text": [
            "Ttest_indResult(statistic=-0.42191407987311036, pvalue=0.6780839211460237)\n",
            "Algorithms probably have the same performance\n"
          ]
        }
      ]
    },
    {
      "cell_type": "markdown",
      "metadata": {
        "id": "JHdZSWeTFVMI"
      },
      "source": [
        "## Comparing BERT with RoBERTa"
      ]
    },
    {
      "cell_type": "markdown",
      "metadata": {
        "id": "Yis6UgKQFVMI"
      },
      "source": [
        "### Comparing Accuracy"
      ]
    },
    {
      "cell_type": "code",
      "metadata": {
        "colab": {
          "base_uri": "https://localhost:8080/"
        },
        "id": "J8oW7pP4FVMI",
        "outputId": "670d5b80-4d30-4ded-a6dc-41eaa2ae0d67"
      },
      "source": [
        "print(stats.ttest_ind(bert_base_uncased_data['Accuracy'], roberta_base_data['Accuracy']))\n",
        "p = stats.ttest_ind(bert_base_uncased_data['Accuracy'], roberta_base_data['Accuracy']).pvalue\n",
        "if p <= 0.001:\n",
        "\tprint('Difference between mean performance is probably real')\n",
        "else:\n",
        "\tprint('Algorithms probably have the same performance')"
      ],
      "execution_count": null,
      "outputs": [
        {
          "output_type": "stream",
          "name": "stdout",
          "text": [
            "Ttest_indResult(statistic=-1.5631886079131527, pvalue=0.13541842146436198)\n",
            "Algorithms probably have the same performance\n"
          ]
        }
      ]
    },
    {
      "cell_type": "markdown",
      "metadata": {
        "id": "KN7Itg18FVMJ"
      },
      "source": [
        "### Comparing F1-macro"
      ]
    },
    {
      "cell_type": "code",
      "metadata": {
        "colab": {
          "base_uri": "https://localhost:8080/"
        },
        "id": "XMgpimhaFVMJ",
        "outputId": "6ed50138-9dfe-4e1d-9576-07459090f124"
      },
      "source": [
        "print(stats.ttest_ind(bert_base_uncased_data['F1_macro'], roberta_base_data['F1_macro']))\n",
        "p = stats.ttest_ind(bert_base_uncased_data['F1_macro'], roberta_base_data['F1_macro']).pvalue\n",
        "if p <= 0.001:\n",
        "\tprint('Difference between mean performance is probably real')\n",
        "else:\n",
        "\tprint('Algorithms probably have the same performance')"
      ],
      "execution_count": null,
      "outputs": [
        {
          "output_type": "stream",
          "name": "stdout",
          "text": [
            "Ttest_indResult(statistic=-1.420537569342565, pvalue=0.1725422716973249)\n",
            "Algorithms probably have the same performance\n"
          ]
        }
      ]
    },
    {
      "cell_type": "markdown",
      "metadata": {
        "id": "4nSnAt0qFVMK"
      },
      "source": [
        "## Comparing BERT with XLMRoBERTa"
      ]
    },
    {
      "cell_type": "markdown",
      "metadata": {
        "id": "oN8cjXfrFVMK"
      },
      "source": [
        "### Comparing Accuracy"
      ]
    },
    {
      "cell_type": "code",
      "metadata": {
        "colab": {
          "base_uri": "https://localhost:8080/"
        },
        "id": "pz6xHgkdFVML",
        "outputId": "b84808ca-1ba5-4c4c-dc55-44235d51863a"
      },
      "source": [
        "print(stats.ttest_ind(bert_base_uncased_data['Accuracy'], xlm_roberta_base_data['Accuracy']))\n",
        "p = stats.ttest_ind(bert_base_uncased_data['Accuracy'], xlm_roberta_base_data['Accuracy']).pvalue\n",
        "if p <= 0.001:\n",
        "\tprint('Difference between mean performance is probably real')\n",
        "else:\n",
        "\tprint('Algorithms probably have the same performance')"
      ],
      "execution_count": null,
      "outputs": [
        {
          "output_type": "stream",
          "name": "stdout",
          "text": [
            "Ttest_indResult(statistic=-0.17960853343237687, pvalue=0.8594663152289816)\n",
            "Algorithms probably have the same performance\n"
          ]
        }
      ]
    },
    {
      "cell_type": "markdown",
      "metadata": {
        "id": "yYVN4ZMkFVMM"
      },
      "source": [
        "### Comparing F1-macro"
      ]
    },
    {
      "cell_type": "code",
      "metadata": {
        "colab": {
          "base_uri": "https://localhost:8080/"
        },
        "id": "Hvo3CvQlFVMM",
        "outputId": "f66ee70d-9864-48ea-eac2-6a31f879ff64"
      },
      "source": [
        "print(stats.ttest_ind(bert_base_uncased_data['F1_macro'], xlm_roberta_base_data['F1_macro']))\n",
        "p = stats.ttest_ind(bert_base_uncased_data['F1_macro'], xlm_roberta_base_data['F1_macro']).pvalue\n",
        "if p <= 0.001:\n",
        "\tprint('Difference between mean performance is probably real')\n",
        "else:\n",
        "\tprint('Algorithms probably have the same performance')"
      ],
      "execution_count": null,
      "outputs": [
        {
          "output_type": "stream",
          "name": "stdout",
          "text": [
            "Ttest_indResult(statistic=0.11839282188638903, pvalue=0.9070676278272639)\n",
            "Algorithms probably have the same performance\n"
          ]
        }
      ]
    },
    {
      "cell_type": "markdown",
      "metadata": {
        "id": "2KJ5HmdBR0XL"
      },
      "source": [
        "# Which classifier has the best performance?"
      ]
    },
    {
      "cell_type": "code",
      "metadata": {
        "colab": {
          "base_uri": "https://localhost:8080/"
        },
        "id": "bwt05Q-0JNCY",
        "outputId": "a0af56ab-24fc-40a3-894c-ea14c83c26b5"
      },
      "source": [
        "result.iloc[result['Accuracy'].argmax()]"
      ],
      "execution_count": null,
      "outputs": [
        {
          "output_type": "execute_result",
          "data": {
            "text/plain": [
              "Fold                   5\n",
              "Model       roberta-base\n",
              "Accuracy        0.925645\n",
              "F1_macro        0.906852\n",
              "Name: 5, dtype: object"
            ]
          },
          "metadata": {},
          "execution_count": 48
        }
      ]
    },
    {
      "cell_type": "code",
      "metadata": {
        "colab": {
          "base_uri": "https://localhost:8080/"
        },
        "id": "M6gE3ON_JS-A",
        "outputId": "d518827c-60ac-4f2c-ac72-dc9a6108dc3b"
      },
      "source": [
        "result.iloc[result['F1_macro'].argmax()]"
      ],
      "execution_count": null,
      "outputs": [
        {
          "output_type": "execute_result",
          "data": {
            "text/plain": [
              "Fold                   5\n",
              "Model       roberta-base\n",
              "Accuracy        0.925645\n",
              "F1_macro        0.906852\n",
              "Name: 5, dtype: object"
            ]
          },
          "metadata": {},
          "execution_count": 49
        }
      ]
    },
    {
      "cell_type": "markdown",
      "metadata": {
        "id": "zxv6I2iQMsE1"
      },
      "source": [
        "# Comparing Means of Accuracy and F1_macro of each classifier"
      ]
    },
    {
      "cell_type": "code",
      "metadata": {
        "id": "JzUndXjkL_GF"
      },
      "source": [
        "svm_acc_mean = svm_data['Accuracy'].mean()\n",
        "svm_f1_macro_mean = svm_data['F1_macro'].mean()\n",
        "\n",
        "nb_acc_mean = nb_data['Accuracy'].mean()\n",
        "nb_f1_macro_mean = nb_data['F1_macro'].mean()\n",
        "\n",
        "lr_acc_mean = lr_data['Accuracy'].mean()\n",
        "lr_f1_macro_mean = lr_data['F1_macro'].mean()\n",
        "\n",
        "bert_base_uncased_acc_mean = bert_base_uncased_data['Accuracy'].mean()\n",
        "bert_base_uncased_f1_macro_mean = bert_base_uncased_data['F1_macro'].mean()\n",
        "\n",
        "distilbert_base_uncased_acc_mean = distilbert_base_uncased_data['Accuracy'].mean()\n",
        "distilbert_base_uncased_f1_macro_mean = distilbert_base_uncased_data['F1_macro'].mean()\n",
        "\n",
        "distilbert_base_uncased_finetuned_sst_2_english_acc_mean = distilbert_base_uncased_finetuned_sst_2_english_data['Accuracy'].mean()\n",
        "distilbert_base_uncased_finetuned_sst_2_english_f1_macro_mean = distilbert_base_uncased_finetuned_sst_2_english_data['F1_macro'].mean()\n",
        "\n",
        "albert_base_v2_acc_mean = albert_base_v2_data['Accuracy'].mean()\n",
        "albert_base_v2_f1_macro_mean = albert_base_v2_data['F1_macro'].mean()\n",
        "\n",
        "roberta_base_acc_mean = roberta_base_data['Accuracy'].mean()\n",
        "roberta_base_f1_macro_mean = roberta_base_data['F1_macro'].mean()\n",
        "\n",
        "xlm_roberta_base_acc_mean = xlm_roberta_base_data['Accuracy'].mean()\n",
        "xlm_roberta_base_f1_macro_mean = xlm_roberta_base_data['F1_macro'].mean()\n",
        "\n"
      ],
      "execution_count": null,
      "outputs": []
    },
    {
      "cell_type": "code",
      "metadata": {
        "id": "QMm0tVuqMFjn"
      },
      "source": [
        "svm_mean_data = pd.DataFrame(['SVM'], columns=['Model'])\n",
        "svm_mean_data['Accuracy Mean']= svm_acc_mean\n",
        "svm_mean_data['F1_macro Mean']= svm_f1_macro_mean\n",
        "#svm_mean_data\n",
        "\n",
        "nb_mean_data = pd.DataFrame(['NB'], columns=['Model'])\n",
        "nb_mean_data['Accuracy Mean']= nb_acc_mean\n",
        "nb_mean_data['F1_macro Mean']= nb_f1_macro_mean\n",
        "#nb_mean_data\n",
        "\n",
        "lr_mean_data = pd.DataFrame(['LR'], columns=['Model'])\n",
        "lr_mean_data['Accuracy Mean']= lr_acc_mean\n",
        "lr_mean_data['F1_macro Mean']= lr_f1_macro_mean\n",
        "#lr_mean_data\n",
        "\n",
        "bert_base_uncased_mean_data = pd.DataFrame(['bert-base-uncased'], columns=['Model'])\n",
        "bert_base_uncased_mean_data['Accuracy Mean']= bert_base_uncased_acc_mean\n",
        "bert_base_uncased_mean_data['F1_macro Mean']= bert_base_uncased_f1_macro_mean\n",
        "#bert_base_uncased_mean_data\n",
        "\n",
        "distilbert_base_uncased_mean_data = pd.DataFrame(['distilbert-base-uncased'], columns=['Model'])\n",
        "distilbert_base_uncased_mean_data['Accuracy Mean']= distilbert_base_uncased_acc_mean\n",
        "distilbert_base_uncased_mean_data['F1_macro Mean']= distilbert_base_uncased_f1_macro_mean\n",
        "#distilbert_base_uncased_mean_data\n",
        "\n",
        "distilbert_base_uncased_finetuned_sst_2_english_mean_data = pd.DataFrame(['distilbert-base-uncased-finetuned-sst-2-english'], columns=['Model'])\n",
        "distilbert_base_uncased_finetuned_sst_2_english_mean_data['Accuracy Mean']= distilbert_base_uncased_finetuned_sst_2_english_acc_mean\n",
        "distilbert_base_uncased_finetuned_sst_2_english_mean_data['F1_macro Mean']= distilbert_base_uncased_finetuned_sst_2_english_f1_macro_mean\n",
        "#distilbert_base_uncased_finetuned_sst_2_english_mean_data\n",
        "\n",
        "albert_base_v2_mean_data = pd.DataFrame(['albert-base-v2'], columns=['Model'])\n",
        "albert_base_v2_mean_data['Accuracy Mean']= albert_base_v2_acc_mean\n",
        "albert_base_v2_mean_data['F1_macro Mean']= albert_base_v2_f1_macro_mean\n",
        "#albert_base_v2_mean_data\n",
        "\n",
        "roberta_base_mean_data = pd.DataFrame(['roberta-base'], columns=['Model'])\n",
        "roberta_base_mean_data['Accuracy Mean']= roberta_base_acc_mean\n",
        "roberta_base_mean_data['F1_macro Mean']= roberta_base_f1_macro_mean\n",
        "#roberta_base_mean_data\n",
        "\n",
        "xlm_roberta_base_mean_data = pd.DataFrame(['xlm-roberta-base'], columns=['Model'])\n",
        "xlm_roberta_base_mean_data['Accuracy Mean']= xlm_roberta_base_acc_mean\n",
        "xlm_roberta_base_mean_data['F1_macro Mean']= xlm_roberta_base_f1_macro_mean\n",
        "#xlm_roberta_base_mean_data"
      ],
      "execution_count": null,
      "outputs": []
    },
    {
      "cell_type": "code",
      "metadata": {
        "colab": {
          "base_uri": "https://localhost:8080/",
          "height": 332
        },
        "id": "wpigMHVVP6os",
        "outputId": "0049814b-822a-4d3e-e0b0-64cdbd5c8e74"
      },
      "source": [
        "frames2 = [svm_mean_data, nb_mean_data, lr_mean_data, bert_base_uncased_mean_data, distilbert_base_uncased_mean_data, distilbert_base_uncased_finetuned_sst_2_english_mean_data, albert_base_v2_mean_data, roberta_base_mean_data, xlm_roberta_base_mean_data]\n",
        "\n",
        "mean_result = pd.concat(frames2)\n",
        "mean_result.reset_index(inplace=True, drop=True)\n",
        "mean_result"
      ],
      "execution_count": null,
      "outputs": [
        {
          "output_type": "execute_result",
          "data": {
            "text/html": [
              "<div>\n",
              "<style scoped>\n",
              "    .dataframe tbody tr th:only-of-type {\n",
              "        vertical-align: middle;\n",
              "    }\n",
              "\n",
              "    .dataframe tbody tr th {\n",
              "        vertical-align: top;\n",
              "    }\n",
              "\n",
              "    .dataframe thead th {\n",
              "        text-align: right;\n",
              "    }\n",
              "</style>\n",
              "<table border=\"1\" class=\"dataframe\">\n",
              "  <thead>\n",
              "    <tr style=\"text-align: right;\">\n",
              "      <th></th>\n",
              "      <th>Model</th>\n",
              "      <th>Accuracy Mean</th>\n",
              "      <th>F1_macro Mean</th>\n",
              "    </tr>\n",
              "  </thead>\n",
              "  <tbody>\n",
              "    <tr>\n",
              "      <th>0</th>\n",
              "      <td>SVM</td>\n",
              "      <td>0.781626</td>\n",
              "      <td>0.742641</td>\n",
              "    </tr>\n",
              "    <tr>\n",
              "      <th>1</th>\n",
              "      <td>NB</td>\n",
              "      <td>0.760788</td>\n",
              "      <td>0.703183</td>\n",
              "    </tr>\n",
              "    <tr>\n",
              "      <th>2</th>\n",
              "      <td>LR</td>\n",
              "      <td>0.801219</td>\n",
              "      <td>0.753521</td>\n",
              "    </tr>\n",
              "    <tr>\n",
              "      <th>3</th>\n",
              "      <td>bert-base-uncased</td>\n",
              "      <td>0.878071</td>\n",
              "      <td>0.847602</td>\n",
              "    </tr>\n",
              "    <tr>\n",
              "      <th>4</th>\n",
              "      <td>distilbert-base-uncased</td>\n",
              "      <td>0.875949</td>\n",
              "      <td>0.845884</td>\n",
              "    </tr>\n",
              "    <tr>\n",
              "      <th>5</th>\n",
              "      <td>distilbert-base-uncased-finetuned-sst-2-english</td>\n",
              "      <td>0.873826</td>\n",
              "      <td>0.841126</td>\n",
              "    </tr>\n",
              "    <tr>\n",
              "      <th>6</th>\n",
              "      <td>albert-base-v2</td>\n",
              "      <td>0.881711</td>\n",
              "      <td>0.851405</td>\n",
              "    </tr>\n",
              "    <tr>\n",
              "      <th>7</th>\n",
              "      <td>roberta-base</td>\n",
              "      <td>0.891724</td>\n",
              "      <td>0.862703</td>\n",
              "    </tr>\n",
              "    <tr>\n",
              "      <th>8</th>\n",
              "      <td>xlm-roberta-base</td>\n",
              "      <td>0.879441</td>\n",
              "      <td>0.846508</td>\n",
              "    </tr>\n",
              "  </tbody>\n",
              "</table>\n",
              "</div>"
            ],
            "text/plain": [
              "                                             Model  ...  F1_macro Mean\n",
              "0                                              SVM  ...       0.742641\n",
              "1                                               NB  ...       0.703183\n",
              "2                                               LR  ...       0.753521\n",
              "3                                bert-base-uncased  ...       0.847602\n",
              "4                          distilbert-base-uncased  ...       0.845884\n",
              "5  distilbert-base-uncased-finetuned-sst-2-english  ...       0.841126\n",
              "6                                   albert-base-v2  ...       0.851405\n",
              "7                                     roberta-base  ...       0.862703\n",
              "8                                 xlm-roberta-base  ...       0.846508\n",
              "\n",
              "[9 rows x 3 columns]"
            ]
          },
          "metadata": {},
          "execution_count": 58
        }
      ]
    },
    {
      "cell_type": "code",
      "metadata": {
        "colab": {
          "base_uri": "https://localhost:8080/"
        },
        "id": "ZsaLJLGZRUcc",
        "outputId": "4d4859ea-9e47-49e9-e332-719e03e4269a"
      },
      "source": [
        "mean_result.iloc[mean_result['Accuracy Mean'].argmax()]"
      ],
      "execution_count": null,
      "outputs": [
        {
          "output_type": "execute_result",
          "data": {
            "text/plain": [
              "Model            roberta-base\n",
              "Accuracy Mean        0.891724\n",
              "F1_macro Mean        0.862703\n",
              "Name: 0, dtype: object"
            ]
          },
          "metadata": {},
          "execution_count": 54
        }
      ]
    },
    {
      "cell_type": "code",
      "metadata": {
        "colab": {
          "base_uri": "https://localhost:8080/"
        },
        "id": "kwAKjbHBRejK",
        "outputId": "8db3e5ac-12cf-4332-84df-52710149b8f1"
      },
      "source": [
        "mean_result.iloc[mean_result['F1_macro Mean'].argmax()]"
      ],
      "execution_count": null,
      "outputs": [
        {
          "output_type": "execute_result",
          "data": {
            "text/plain": [
              "Model            roberta-base\n",
              "Accuracy Mean        0.891724\n",
              "F1_macro Mean        0.862703\n",
              "Name: 0, dtype: object"
            ]
          },
          "metadata": {},
          "execution_count": 55
        }
      ]
    }
  ]
}